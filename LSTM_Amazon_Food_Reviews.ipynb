{
 "cells": [
  {
   "cell_type": "code",
   "execution_count": 2,
   "metadata": {
    "colab": {
     "base_uri": "https://localhost:8080/",
     "height": 124
    },
    "colab_type": "code",
    "id": "BzsNi5fITuMt",
    "outputId": "38d9a428-fd55-48b1-afaf-fb762e55f8e1"
   },
   "outputs": [
    {
     "data": {
      "text/html": [
       "<style>.container { width:100% !important; }</style>"
      ],
      "text/plain": [
       "<IPython.core.display.HTML object>"
      ]
     },
     "metadata": {
      "tags": []
     },
     "output_type": "display_data"
    },
    {
     "name": "stdout",
     "output_type": "stream",
     "text": [
      "Go to this URL in a browser: https://accounts.google.com/o/oauth2/auth?client_id=947318989803-6bn6qk8qdgf4n4g3pfee6491hc0brc4i.apps.googleusercontent.com&redirect_uri=urn%3Aietf%3Awg%3Aoauth%3A2.0%3Aoob&scope=email%20https%3A%2F%2Fwww.googleapis.com%2Fauth%2Fdocs.test%20https%3A%2F%2Fwww.googleapis.com%2Fauth%2Fdrive%20https%3A%2F%2Fwww.googleapis.com%2Fauth%2Fdrive.photos.readonly%20https%3A%2F%2Fwww.googleapis.com%2Fauth%2Fpeopleapi.readonly&response_type=code\n",
      "\n",
      "Enter your authorization code:\n",
      "··········\n",
      "Mounted at /content/drive\n"
     ]
    }
   ],
   "source": [
    "from IPython.core.display import display, HTML\n",
    "display(HTML(\"<style>.container { width:100% !important; }</style>\"))\n",
    "\n",
    "from google.colab import drive\n",
    "drive.mount('/content/drive')"
   ]
  },
  {
   "cell_type": "code",
   "execution_count": 0,
   "metadata": {
    "colab": {},
    "colab_type": "code",
    "id": "nefj4FO-eUty"
   },
   "outputs": [],
   "source": [
    "#Run this code only once to create a directory named 'amazon' where we will save our models and parameters\n",
    "#as when necessery.\n",
    "\n",
    "import os\n",
    "os.mkdir('/content/drive/My Drive/amazon')"
   ]
  },
  {
   "cell_type": "markdown",
   "metadata": {
    "colab_type": "text",
    "id": "2SbYPAWXTuNL"
   },
   "source": [
    "# Amazon Fine Food Reviews Analysis using Reccurrent Neural Networks.\n",
    "\n",
    "Data Source: https://www.kaggle.com/snap/amazon-fine-food-reviews\n",
    "\n",
    "#### Basic information about the downloaded dataset<br>\n",
    "\n",
    "Number of reviews: 568,454<br>\n",
    "Number of users: 256,059<br>\n",
    "Number of products: 74,258<br>\n",
    "Timespan: Oct 1999 - Oct 2012<br>\n",
    "Number of Attributes/Columns in data: 10 \n",
    "\n",
    "#### Attribute Information:\n",
    "\n",
    "1. Id\n",
    "2. ProductId - unique identifier for the product\n",
    "3. UserId - unqiue identifier for the user\n",
    "4. ProfileName\n",
    "5. HelpfulnessNumerator - number of users who found the review helpful\n",
    "6. HelpfulnessDenominator - number of users who indicated whether they found the review helpful or not\n",
    "7. Score - rating between 1 and 5\n",
    "8. Time - timestamp for the review\n",
    "9. Summary - brief summary of the review\n",
    "10. Text - text of the review\n",
    "\n",
    "\n",
    "#### Objective:\n",
    "Our main objective for this analysis is to train a model which can seperate the postive and negative reviews.\n",
    "In this problem we will apply classification techniques called Naive Bayes to get an idea if the data can be seperated based on its polarity, i.e. if the review is positive or negative. By looking at the Score column we can make out that the review is positive or not. But we don't need to implement any ML here. A simple if-else condition will make us do this. So for this problem, we will put our focus on to the Review text. The text is the most important feature here if you may ask. Based on the review text we will build a prediction model and determine if a future review is positive or negative.\n",
    "\n",
    "#### While pre-processing the original dataset we have taken into consideration the following points.\n",
    "\n",
    "1. We will classify a review to be positive if and only if the corresponding Score for the given review is 4 or 5.\n",
    "2. We will classify a review to be negative if and only if the corresponding Score for the given review is 1 or 2.\n",
    "3. We will ignore the reviews for the time being which has a Score rating of 3. Because 3 can be thought of as a neutral review. It's neither negative nor positive.\n",
    "4. We will remove the duplicate entries from the dataset.\n",
    "5. For this problem we will consider a sample size of 50000 reviews sampled randomly from the original dataset. I have done this because I don't have a huge RAM size (12 GB to be specific). \n",
    "6. We will train our final mdel using four featurizations -> bag of words model, tf-idf model, average word-to-vec model and tf-idf weighted word-to-vec model.\n",
    "7. So at end of the training the model will be trained on the above four featurizations to determine if a given review is positive or negative (Determining the sentiment polarity of the Amazon reviews)"
   ]
  },
  {
   "cell_type": "code",
   "execution_count": 0,
   "metadata": {
    "colab": {},
    "colab_type": "code",
    "id": "wZjskZBaTuNR"
   },
   "outputs": [],
   "source": [
    "#Importing all the neccessary libraries\n",
    "%matplotlib inline\n",
    "import sqlite3\n",
    "import pandas as pd\n",
    "import numpy as np\n",
    "import nltk\n",
    "import string\n",
    "import matplotlib.pyplot as plt\n",
    "import seaborn as sns\n",
    "from sklearn.feature_extraction.text import TfidfTransformer, TfidfVectorizer, CountVectorizer\n",
    "import sklearn.metrics as metrics\n",
    "from sklearn.metrics import confusion_matrix, roc_curve, auc, precision_score, recall_score, f1_score\n",
    "from nltk.stem.porter import PorterStemmer\n",
    "import string\n",
    "from nltk.corpus import stopwords\n",
    "from nltk.stem.wordnet import WordNetLemmatizer\n",
    "from gensim.models import Word2Vec, KeyedVectors\n",
    "import pickle\n",
    "import warnings\n",
    "warnings.filterwarnings(\"ignore\")\n",
    "from sklearn import datasets, neighbors\n",
    "from sklearn.neighbors import KNeighborsClassifier\n",
    "from sklearn.metrics import accuracy_score\n",
    "from collections import Counter\n",
    "from matplotlib.colors import ListedColormap\n",
    "from sklearn.metrics import accuracy_score\n",
    "import math\n",
    "import nltk\n",
    "from sklearn.naive_bayes import MultinomialNB\n",
    "from sklearn.model_selection import TimeSeriesSplit, GridSearchCV\n",
    "import os\n",
    "from datetime import datetime"
   ]
  },
  {
   "cell_type": "markdown",
   "metadata": {
    "colab_type": "text",
    "id": "jd2VgpG8TuNa"
   },
   "source": [
    "#### The immediate code block below does the following things :\n",
    "\n",
    "1. Load the Amazon dataset.\n",
    "2. Classify the reviews initially based on their score rating and give them a 'Positve' or a 'Negative' tag.\n",
    "3. Remove duplicate/redundant datas.\n",
    "4. Get an idea of how much percentage data were actually duplicates.\n",
    "5. Plot a histogram which will display the distribution of the number of positive and negative reviews after de-duplication.\n",
    "\n",
    "###### NOTE : If we dont' clean the data and feed them to an ML system, it basically means we are throwing in a lot of garbage data to the ML system. If we give it garbage, it will give us garbage back. So it's utmost important to clean the data before proceeding."
   ]
  },
  {
   "cell_type": "markdown",
   "metadata": {
    "colab_type": "text",
    "id": "xpouNZIOTuNe"
   },
   "source": [
    "<h3>Loading the Amazon Food reviews dataset.</h3>"
   ]
  },
  {
   "cell_type": "code",
   "execution_count": 0,
   "metadata": {
    "colab": {
     "base_uri": "https://localhost:8080/",
     "height": 537
    },
    "colab_type": "code",
    "id": "C36d6QvXTuNh",
    "outputId": "5ec6c4ac-f9b7-40ec-aa1a-88f0d626146d"
   },
   "outputs": [
    {
     "data": {
      "text/html": [
       "<div>\n",
       "<style scoped>\n",
       "    .dataframe tbody tr th:only-of-type {\n",
       "        vertical-align: middle;\n",
       "    }\n",
       "\n",
       "    .dataframe tbody tr th {\n",
       "        vertical-align: top;\n",
       "    }\n",
       "\n",
       "    .dataframe thead th {\n",
       "        text-align: right;\n",
       "    }\n",
       "</style>\n",
       "<table border=\"1\" class=\"dataframe\">\n",
       "  <thead>\n",
       "    <tr style=\"text-align: right;\">\n",
       "      <th></th>\n",
       "      <th>Id</th>\n",
       "      <th>ProductId</th>\n",
       "      <th>UserId</th>\n",
       "      <th>ProfileName</th>\n",
       "      <th>HelpfulnessNumerator</th>\n",
       "      <th>HelpfulnessDenominator</th>\n",
       "      <th>Score</th>\n",
       "      <th>Time</th>\n",
       "      <th>Summary</th>\n",
       "      <th>Text</th>\n",
       "    </tr>\n",
       "  </thead>\n",
       "  <tbody>\n",
       "    <tr>\n",
       "      <th>0</th>\n",
       "      <td>1</td>\n",
       "      <td>B001E4KFG0</td>\n",
       "      <td>A3SGXH7AUHU8GW</td>\n",
       "      <td>delmartian</td>\n",
       "      <td>1</td>\n",
       "      <td>1</td>\n",
       "      <td>5</td>\n",
       "      <td>1303862400</td>\n",
       "      <td>Good Quality Dog Food</td>\n",
       "      <td>I have bought several of the Vitality canned d...</td>\n",
       "    </tr>\n",
       "    <tr>\n",
       "      <th>1</th>\n",
       "      <td>2</td>\n",
       "      <td>B00813GRG4</td>\n",
       "      <td>A1D87F6ZCVE5NK</td>\n",
       "      <td>dll pa</td>\n",
       "      <td>0</td>\n",
       "      <td>0</td>\n",
       "      <td>1</td>\n",
       "      <td>1346976000</td>\n",
       "      <td>Not as Advertised</td>\n",
       "      <td>Product arrived labeled as Jumbo Salted Peanut...</td>\n",
       "    </tr>\n",
       "    <tr>\n",
       "      <th>2</th>\n",
       "      <td>3</td>\n",
       "      <td>B000LQOCH0</td>\n",
       "      <td>ABXLMWJIXXAIN</td>\n",
       "      <td>Natalia Corres \"Natalia Corres\"</td>\n",
       "      <td>1</td>\n",
       "      <td>1</td>\n",
       "      <td>4</td>\n",
       "      <td>1219017600</td>\n",
       "      <td>\"Delight\" says it all</td>\n",
       "      <td>This is a confection that has been around a fe...</td>\n",
       "    </tr>\n",
       "    <tr>\n",
       "      <th>3</th>\n",
       "      <td>4</td>\n",
       "      <td>B000UA0QIQ</td>\n",
       "      <td>A395BORC6FGVXV</td>\n",
       "      <td>Karl</td>\n",
       "      <td>3</td>\n",
       "      <td>3</td>\n",
       "      <td>2</td>\n",
       "      <td>1307923200</td>\n",
       "      <td>Cough Medicine</td>\n",
       "      <td>If you are looking for the secret ingredient i...</td>\n",
       "    </tr>\n",
       "    <tr>\n",
       "      <th>4</th>\n",
       "      <td>5</td>\n",
       "      <td>B006K2ZZ7K</td>\n",
       "      <td>A1UQRSCLF8GW1T</td>\n",
       "      <td>Michael D. Bigham \"M. Wassir\"</td>\n",
       "      <td>0</td>\n",
       "      <td>0</td>\n",
       "      <td>5</td>\n",
       "      <td>1350777600</td>\n",
       "      <td>Great taffy</td>\n",
       "      <td>Great taffy at a great price.  There was a wid...</td>\n",
       "    </tr>\n",
       "    <tr>\n",
       "      <th>5</th>\n",
       "      <td>6</td>\n",
       "      <td>B006K2ZZ7K</td>\n",
       "      <td>ADT0SRK1MGOEU</td>\n",
       "      <td>Twoapennything</td>\n",
       "      <td>0</td>\n",
       "      <td>0</td>\n",
       "      <td>4</td>\n",
       "      <td>1342051200</td>\n",
       "      <td>Nice Taffy</td>\n",
       "      <td>I got a wild hair for taffy and ordered this f...</td>\n",
       "    </tr>\n",
       "    <tr>\n",
       "      <th>6</th>\n",
       "      <td>7</td>\n",
       "      <td>B006K2ZZ7K</td>\n",
       "      <td>A1SP2KVKFXXRU1</td>\n",
       "      <td>David C. Sullivan</td>\n",
       "      <td>0</td>\n",
       "      <td>0</td>\n",
       "      <td>5</td>\n",
       "      <td>1340150400</td>\n",
       "      <td>Great!  Just as good as the expensive brands!</td>\n",
       "      <td>This saltwater taffy had great flavors and was...</td>\n",
       "    </tr>\n",
       "    <tr>\n",
       "      <th>7</th>\n",
       "      <td>8</td>\n",
       "      <td>B006K2ZZ7K</td>\n",
       "      <td>A3JRGQVEQN31IQ</td>\n",
       "      <td>Pamela G. Williams</td>\n",
       "      <td>0</td>\n",
       "      <td>0</td>\n",
       "      <td>5</td>\n",
       "      <td>1336003200</td>\n",
       "      <td>Wonderful, tasty taffy</td>\n",
       "      <td>This taffy is so good.  It is very soft and ch...</td>\n",
       "    </tr>\n",
       "    <tr>\n",
       "      <th>8</th>\n",
       "      <td>9</td>\n",
       "      <td>B000E7L2R4</td>\n",
       "      <td>A1MZYO9TZK0BBI</td>\n",
       "      <td>R. James</td>\n",
       "      <td>1</td>\n",
       "      <td>1</td>\n",
       "      <td>5</td>\n",
       "      <td>1322006400</td>\n",
       "      <td>Yay Barley</td>\n",
       "      <td>Right now I'm mostly just sprouting this so my...</td>\n",
       "    </tr>\n",
       "    <tr>\n",
       "      <th>9</th>\n",
       "      <td>10</td>\n",
       "      <td>B00171APVA</td>\n",
       "      <td>A21BT40VZCCYT4</td>\n",
       "      <td>Carol A. Reed</td>\n",
       "      <td>0</td>\n",
       "      <td>0</td>\n",
       "      <td>5</td>\n",
       "      <td>1351209600</td>\n",
       "      <td>Healthy Dog Food</td>\n",
       "      <td>This is a very healthy dog food. Good for thei...</td>\n",
       "    </tr>\n",
       "  </tbody>\n",
       "</table>\n",
       "</div>"
      ],
      "text/plain": [
       "   Id   ProductId          UserId                      ProfileName  \\\n",
       "0   1  B001E4KFG0  A3SGXH7AUHU8GW                       delmartian   \n",
       "1   2  B00813GRG4  A1D87F6ZCVE5NK                           dll pa   \n",
       "2   3  B000LQOCH0   ABXLMWJIXXAIN  Natalia Corres \"Natalia Corres\"   \n",
       "3   4  B000UA0QIQ  A395BORC6FGVXV                             Karl   \n",
       "4   5  B006K2ZZ7K  A1UQRSCLF8GW1T    Michael D. Bigham \"M. Wassir\"   \n",
       "5   6  B006K2ZZ7K   ADT0SRK1MGOEU                   Twoapennything   \n",
       "6   7  B006K2ZZ7K  A1SP2KVKFXXRU1                David C. Sullivan   \n",
       "7   8  B006K2ZZ7K  A3JRGQVEQN31IQ               Pamela G. Williams   \n",
       "8   9  B000E7L2R4  A1MZYO9TZK0BBI                         R. James   \n",
       "9  10  B00171APVA  A21BT40VZCCYT4                    Carol A. Reed   \n",
       "\n",
       "   HelpfulnessNumerator  HelpfulnessDenominator  Score        Time  \\\n",
       "0                     1                       1      5  1303862400   \n",
       "1                     0                       0      1  1346976000   \n",
       "2                     1                       1      4  1219017600   \n",
       "3                     3                       3      2  1307923200   \n",
       "4                     0                       0      5  1350777600   \n",
       "5                     0                       0      4  1342051200   \n",
       "6                     0                       0      5  1340150400   \n",
       "7                     0                       0      5  1336003200   \n",
       "8                     1                       1      5  1322006400   \n",
       "9                     0                       0      5  1351209600   \n",
       "\n",
       "                                         Summary  \\\n",
       "0                          Good Quality Dog Food   \n",
       "1                              Not as Advertised   \n",
       "2                          \"Delight\" says it all   \n",
       "3                                 Cough Medicine   \n",
       "4                                    Great taffy   \n",
       "5                                     Nice Taffy   \n",
       "6  Great!  Just as good as the expensive brands!   \n",
       "7                         Wonderful, tasty taffy   \n",
       "8                                     Yay Barley   \n",
       "9                               Healthy Dog Food   \n",
       "\n",
       "                                                Text  \n",
       "0  I have bought several of the Vitality canned d...  \n",
       "1  Product arrived labeled as Jumbo Salted Peanut...  \n",
       "2  This is a confection that has been around a fe...  \n",
       "3  If you are looking for the secret ingredient i...  \n",
       "4  Great taffy at a great price.  There was a wid...  \n",
       "5  I got a wild hair for taffy and ordered this f...  \n",
       "6  This saltwater taffy had great flavors and was...  \n",
       "7  This taffy is so good.  It is very soft and ch...  \n",
       "8  Right now I'm mostly just sprouting this so my...  \n",
       "9  This is a very healthy dog food. Good for thei...  "
      ]
     },
     "execution_count": 7,
     "metadata": {
      "tags": []
     },
     "output_type": "execute_result"
    }
   ],
   "source": [
    "'''Loading the Amazon dataset, Remove duplicate data.'''\n",
    "#Data Source: https://www.kaggle.com/snap/amazon-fine-food-reviews.\n",
    "if os.path.isfile('/content/drive/My Drive/amazon/database.sqlite'):\n",
    "    connection_sqlobject = sqlite3.connect('/content/drive/My Drive/amazon/database.sqlite')\n",
    "    #Filter only positive and negative reviews. Do not consider reviews with score = 3.\n",
    "    dataframe = pd.read_sql_query(\"\"\" SELECT * FROM Reviews WHERE Score != 3 \"\"\", connection_sqlobject)\n",
    "    dataframe = dataframe.fillna('')\n",
    "    connection_sqlobject.close()\n",
    "else:\n",
    "    print(\"Get database.sqlite from drive or run the previous notebook.\")\n",
    "    \n",
    "dataframe.head(10)"
   ]
  },
  {
   "cell_type": "markdown",
   "metadata": {
    "colab_type": "text",
    "id": "cdmryKPYTuNt"
   },
   "source": [
    "<h3>1. Encode the reviews as positive and negative. <br>\n",
    "2. Remove the duplicate entries from the dataset. <br>\n",
    "3. Drop unwanted columns from the dataset. <br>\n",
    "4. Sort the reviews according to Time, such that the oldest reviews are displayed at the top and the latest reviews are displayed at the bottom.</h3>"
   ]
  },
  {
   "cell_type": "code",
   "execution_count": 0,
   "metadata": {
    "colab": {
     "base_uri": "https://localhost:8080/",
     "height": 710
    },
    "colab_type": "code",
    "id": "KvbMZGUPTuNz",
    "outputId": "903e13c9-86a3-492f-e162-5f7cb0d8db54"
   },
   "outputs": [
    {
     "name": "stdout",
     "output_type": "stream",
     "text": [
      "The shape of the filtered matrix : (525814, 12)\n",
      "The median score values : 4.27914813983652\n",
      "The number of positive and negative reviews before the removal of duplicate data.\n",
      "1    443777\n",
      "0     82037\n",
      "Name: Class_Labels, dtype: int64\n",
      "\n",
      "The shape of the data matrix after deduplication : (364171, 12)\n",
      "The median score values after deduplication : 4.27579626054793\n",
      "The number of positive and negative reviews after the removal of duplicate data.\n",
      "1    307061\n",
      "0     57110\n",
      "Name: Class_Labels, dtype: int64\n",
      "\n",
      "Checking to see how much percentage of data still remains.\n",
      "Percentage of redundant data removed : 30.741478926008057\n",
      "Percentage of original data retained : 69.25852107399194\n",
      "The shape of the sampled dataset after dropping unwanted columns :  (364171, 3)\n",
      "\n",
      "First 10 rows of the final data matrix after de-duplication and intial processing of the original dataset.\n"
     ]
    },
    {
     "data": {
      "text/html": [
       "<div>\n",
       "<style scoped>\n",
       "    .dataframe tbody tr th:only-of-type {\n",
       "        vertical-align: middle;\n",
       "    }\n",
       "\n",
       "    .dataframe tbody tr th {\n",
       "        vertical-align: top;\n",
       "    }\n",
       "\n",
       "    .dataframe thead th {\n",
       "        text-align: right;\n",
       "    }\n",
       "</style>\n",
       "<table border=\"1\" class=\"dataframe\">\n",
       "  <thead>\n",
       "    <tr style=\"text-align: right;\">\n",
       "      <th></th>\n",
       "      <th>Time</th>\n",
       "      <th>Text</th>\n",
       "      <th>Class_Labels</th>\n",
       "    </tr>\n",
       "  </thead>\n",
       "  <tbody>\n",
       "    <tr>\n",
       "      <th>0</th>\n",
       "      <td>1351209600</td>\n",
       "      <td>I just got this coffee a few days ago. I had c...</td>\n",
       "      <td>0</td>\n",
       "    </tr>\n",
       "    <tr>\n",
       "      <th>1</th>\n",
       "      <td>1351209600</td>\n",
       "      <td>Very pleased with the quality of the espresso....</td>\n",
       "      <td>1</td>\n",
       "    </tr>\n",
       "    <tr>\n",
       "      <th>2</th>\n",
       "      <td>1351209600</td>\n",
       "      <td>Bought this with my new Oster Belgium waffle m...</td>\n",
       "      <td>1</td>\n",
       "    </tr>\n",
       "    <tr>\n",
       "      <th>3</th>\n",
       "      <td>1351209600</td>\n",
       "      <td>We drink a lot of tea... from all over the wor...</td>\n",
       "      <td>0</td>\n",
       "    </tr>\n",
       "    <tr>\n",
       "      <th>4</th>\n",
       "      <td>1351209600</td>\n",
       "      <td>I have always bought my pure vanilla extract i...</td>\n",
       "      <td>1</td>\n",
       "    </tr>\n",
       "    <tr>\n",
       "      <th>5</th>\n",
       "      <td>1351209600</td>\n",
       "      <td>From the label on the Cadbury Screme Egg: \"ALL...</td>\n",
       "      <td>1</td>\n",
       "    </tr>\n",
       "    <tr>\n",
       "      <th>6</th>\n",
       "      <td>1351209600</td>\n",
       "      <td>Best soup mix I've tried. I love making soup, ...</td>\n",
       "      <td>1</td>\n",
       "    </tr>\n",
       "    <tr>\n",
       "      <th>7</th>\n",
       "      <td>1351209600</td>\n",
       "      <td>try it &amp; we shared with the familys/all han th...</td>\n",
       "      <td>1</td>\n",
       "    </tr>\n",
       "    <tr>\n",
       "      <th>8</th>\n",
       "      <td>1351209600</td>\n",
       "      <td>If you like butter flavor this is the best mic...</td>\n",
       "      <td>1</td>\n",
       "    </tr>\n",
       "    <tr>\n",
       "      <th>9</th>\n",
       "      <td>1351209600</td>\n",
       "      <td>I love all sorts of teas. My friends know this...</td>\n",
       "      <td>1</td>\n",
       "    </tr>\n",
       "  </tbody>\n",
       "</table>\n",
       "</div>"
      ],
      "text/plain": [
       "         Time                                               Text  Class_Labels\n",
       "0  1351209600  I just got this coffee a few days ago. I had c...             0\n",
       "1  1351209600  Very pleased with the quality of the espresso....             1\n",
       "2  1351209600  Bought this with my new Oster Belgium waffle m...             1\n",
       "3  1351209600  We drink a lot of tea... from all over the wor...             0\n",
       "4  1351209600  I have always bought my pure vanilla extract i...             1\n",
       "5  1351209600  From the label on the Cadbury Screme Egg: \"ALL...             1\n",
       "6  1351209600  Best soup mix I've tried. I love making soup, ...             1\n",
       "7  1351209600  try it & we shared with the familys/all han th...             1\n",
       "8  1351209600  If you like butter flavor this is the best mic...             1\n",
       "9  1351209600  I love all sorts of teas. My friends know this...             1"
      ]
     },
     "execution_count": 8,
     "metadata": {
      "tags": []
     },
     "output_type": "execute_result"
    }
   ],
   "source": [
    "#This function will remove the duplicate reviews.\n",
    "def dedup(dataframe):\n",
    "    #Give reviews with Score > 3 a 'Positive' tag, and reviews with a score < 3 a 'Negative' tag. Ignore all scores with value 3.\n",
    "    dataframe['SentimentPolarity'] = dataframe['Score'].apply(lambda x : 'Positive' if x > 3 else 'Negative')\n",
    "    dataframe['Class_Labels'] = dataframe['SentimentPolarity'].apply(lambda x : 1 if x == 'Positive' else 0)\n",
    "\n",
    "    #Display information about the dataset before the removal of duplicate data.\n",
    "    print(\"The shape of the filtered matrix : {}\".format(dataframe.shape))\n",
    "    print(\"The median score values : {}\".format(dataframe['Score'].mean()))\n",
    "    print(\"The number of positive and negative reviews before the removal of duplicate data.\")\n",
    "    print(dataframe[\"Class_Labels\"].value_counts())\n",
    "\n",
    "    #Removing duplicate entries based on past knowledge.\n",
    "    filtered_duplicates=dataframe.drop_duplicates(subset={\"UserId\",\"ProfileName\",\"Time\",\"Text\"}, keep='first', inplace=False)\n",
    "\n",
    "    #Removing the entries where HelpfulnessNumerator > HelpfulnessDenominator.\n",
    "    final_data=filtered_duplicates[filtered_duplicates.HelpfulnessNumerator <= filtered_duplicates.HelpfulnessDenominator]\n",
    "\n",
    "    #Display information about the dataset after the removal of duplicate data.\n",
    "    print(\"\\nThe shape of the data matrix after deduplication : {}\".format(final_data.shape))\n",
    "    print(\"The median score values after deduplication : {}\".format(final_data['Score'].mean()))\n",
    "    print(\"The number of positive and negative reviews after the removal of duplicate data.\")\n",
    "    print(final_data[\"Class_Labels\"].value_counts())\n",
    "\n",
    "    #Checking to see how much % of data still remains.\n",
    "    print(\"\\nChecking to see how much percentage of data still remains.\")\n",
    "    retained_per = (final_data['Class_Labels'].size*1.0)/(dataframe['Class_Labels'].size*1.0)*100\n",
    "    removed_per = 100 - retained_per\n",
    "    print(\"Percentage of redundant data removed : {}\".format(removed_per))\n",
    "    print(\"Percentage of original data retained : {}\".format(retained_per))\n",
    "    \n",
    "    dataframe = final_data\n",
    "    \n",
    "    #Dropping unwanted columns for now.\n",
    "    dataframe=dataframe.drop(labels=['Id','ProductId', 'UserId', 'Score', 'ProfileName','HelpfulnessNumerator', 'HelpfulnessDenominator','Summary','SentimentPolarity'], axis=1)\n",
    "    print(\"The shape of the sampled dataset after dropping unwanted columns : \", dataframe.shape)\n",
    "    \n",
    "    #Sorting data according to Time in ascending order => Time Based Splitting Step 1.\n",
    "    dataframe=dataframe.sort_values('Time', axis=0, ascending=False, inplace=False, kind='quicksort', na_position='last')\n",
    "    dataframe = dataframe.reset_index()\n",
    "    dataframe=dataframe.drop(labels=['index'], axis=1)\n",
    "    \n",
    "    return dataframe\n",
    "    \n",
    "dataframe=dedup(dataframe)\n",
    "\n",
    "#Display the first 10 rows of the dataframe (All the reviews are arranged according to time)\n",
    "print(\"\\nFirst 10 rows of the final data matrix after de-duplication and intial processing of the original dataset.\")\n",
    "dataframe.head(10)"
   ]
  },
  {
   "cell_type": "markdown",
   "metadata": {
    "colab_type": "text",
    "id": "JRMRNdSdTuN-"
   },
   "source": [
    "<h3> Displaying information about the number of postive and negative reviews in the sampled dataset, using a Histogram. </h3>"
   ]
  },
  {
   "cell_type": "code",
   "execution_count": 0,
   "metadata": {
    "colab": {
     "base_uri": "https://localhost:8080/",
     "height": 347
    },
    "colab_type": "code",
    "id": "gDvSajn-TuOB",
    "outputId": "60e43e87-c5de-436b-fd1c-2c0e927b0f2c"
   },
   "outputs": [
    {
     "data": {
      "text/plain": [
       "<matplotlib.axes._subplots.AxesSubplot at 0x7f4ed772ae80>"
      ]
     },
     "execution_count": 9,
     "metadata": {
      "tags": []
     },
     "output_type": "execute_result"
    },
    {
     "data": {
      "image/png": "[encoded data removed]",
      "text/plain": [
       "<Figure size 360x360 with 1 Axes>"
      ]
     },
     "metadata": {
      "tags": []
     },
     "output_type": "display_data"
    }
   ],
   "source": [
    "#Display distribution of Postive and Negative reviews in a bar graph\n",
    "dataframe[\"Class_Labels\"].value_counts().plot(kind='bar',color=['green','red'],title='Distribution Of Positive and Negative reviews after De-Duplication.',figsize=(5,5))"
   ]
  },
  {
   "cell_type": "markdown",
   "metadata": {
    "colab_type": "text",
    "id": "x7x3y4CPTuOP"
   },
   "source": [
    "#### Data cleaning stage : Clean each review from the Amazon reviews Dataset."
   ]
  },
  {
   "cell_type": "code",
   "execution_count": 0,
   "metadata": {
    "colab": {},
    "colab_type": "code",
    "id": "ljgd9R1mTuOU"
   },
   "outputs": [],
   "source": [
    "#Function to clean html tags from a review\n",
    "def removeHtml(review): \n",
    "    pattern = re.compile('<.*?>')\n",
    "    cleaned_text = re.sub(pattern,' ',review)\n",
    "    return cleaned_text\n",
    "\n",
    "#Function to keep only words containing letters A-Z and a-z and 0-9. This will remove all punctuations, special characters etc.\n",
    "def removePunctuations(review):\n",
    "    cleaned_text  = re.sub('[^a-zA-Z0-9]',' ',review)\n",
    "    return cleaned_text\n",
    "\n",
    "'''\n",
    "#Scrapping the data from: https://en.wikipedia.org/wiki/Wikipedia:List_of_English_contractions to get english contractions and expansions.\n",
    "import pandas as pd\n",
    "wiki_dfs = pd.read_html('https://en.wikipedia.org/wiki/Wikipedia:List_of_English_contractions',header=0)\n",
    "for dataframe in wiki_dfs:\n",
    "    print(dataframe)\n",
    "    \n",
    "import re\n",
    "def remove_braces(data): \n",
    "    pattern1 = re.compile(\"[\\(\\[].*?[\\)\\]]\")\n",
    "    cleaned_text = re.sub(pattern1,'',data)\n",
    "    return cleaned_text\n",
    "\n",
    "def truncate(text):\n",
    "    string=''\n",
    "    array = text.split()\n",
    "    \n",
    "    if(',' in text):\n",
    "        string='is'\n",
    "    else:\n",
    "        index = array.index('/')    \n",
    "        for ele in range(0,index):\n",
    "            word = array[ele]\n",
    "            string = string + \" \"+ word\n",
    "            string=string.strip()\n",
    "    return string\n",
    "        \n",
    "filtered_meaning=[]\n",
    "for meaning in dataframe['Meaning'].values:\n",
    "    temp_list = []\n",
    "    meaning=remove_braces(meaning)\n",
    "    if(('/' in meaning) or (',' in meaning)):\n",
    "        meaning=truncate(meaning)\n",
    "    string = \"\".join(meaning)\n",
    "    filtered_meaning.append(string)\n",
    "    \n",
    "dataframe['Meaning'] = filtered_meaning'''\n",
    "    \n",
    "\n",
    "#Expand the reviews\n",
    "def preprocess(x):\n",
    "    x = str(x).lower()\n",
    "    x = x.replace(\",000,000\", \"m\").replace(\",000\", \"k\").replace(\"′\", \"'\").replace(\"’\", \"'\")\\\n",
    "                           .replace(\"won't\", \"will not\").replace(\"cannot\", \"can not\").replace(\"can't\", \"can not\")\\\n",
    "                           .replace(\"n't\", \" not\").replace(\"what's\", \"what is\").replace(\"it's\", \"it is\")\\\n",
    "                           .replace(\"'ve\", \" have\").replace(\"i'm\", \"i am\").replace(\"'re\", \" are\")\\\n",
    "                           .replace(\"he's\", \"he is\").replace(\"she's\", \"she is\").replace(\"'s\", \" own\")\\\n",
    "                           .replace(\"%\", \" percent \").replace(\"₹\", \" rupee \").replace(\"$\", \" dollar \")\\\n",
    "                           .replace(\"€\", \" euro \").replace(\"'ll\", \" will\").replace(\"how's\",\"how has\").replace(\"y'all\",\"you all\")\\\n",
    "                           .replace(\"o'clock\",\"of the clock\").replace(\"ne'er\",\"never\").replace(\"let's\",\"let us\")\\\n",
    "                           .replace(\"finna\",\"fixing to\").replace(\"gonna\",\"going to\").replace(\"gimme\",\"give me\").replace(\"gotta\",\"got to\").replace(\"'d\",\" would\")\\\n",
    "                           .replace(\"daresn't\",\"dare not\").replace(\"dasn't\",\"dare not\").replace(\"e'er\",\"ever\").replace(\"everyone's\",\"everyone is\")\\\n",
    "                           .replace(\"'cause'\",\" because\")\n",
    "    \n",
    "    x = re.sub(r\"([0-9]+)000000\", r\"\\1m\", x)\n",
    "    x = re.sub(r\"([0-9]+)000\", r\"\\1k\", x)\n",
    "    return x"
   ]
  },
  {
   "cell_type": "code",
   "execution_count": 0,
   "metadata": {
    "colab": {
     "base_uri": "https://localhost:8080/",
     "height": 173
    },
    "colab_type": "code",
    "id": "3SvCZoLFTuOn",
    "outputId": "3bb57808-718c-4f6f-980c-5a79c3335190"
   },
   "outputs": [
    {
     "name": "stdout",
     "output_type": "stream",
     "text": [
      "[nltk_data] Downloading package stopwords to /root/nltk_data...\n",
      "[nltk_data]   Unzipping corpora/stopwords.zip.\n",
      "\n",
      "Time taken to clean all reviews: 0:08:08.180631\n",
      "The length of the data corpus is : 364171\n",
      "Printing the number of positive and negative reviews after data cleaning.\n",
      "1    307061\n",
      "0     57110\n",
      "Name: Class_Labels, dtype: int64\n"
     ]
    }
   ],
   "source": [
    "from datetime import datetime\n",
    "start = datetime.now()\n",
    "\n",
    "#Stemming and stopwords removal\n",
    "import re\n",
    "from nltk.stem.snowball import SnowballStemmer\n",
    "sno = SnowballStemmer(language='english')\n",
    "\n",
    "#Removing the word 'not' from stopwords\n",
    "import nltk\n",
    "nltk.download('stopwords')\n",
    "  \n",
    "default_stopwords = set(stopwords.words('english'))\n",
    "remove_not = set(['not'])\n",
    "custom_stopwords = default_stopwords - remove_not\n",
    "\n",
    "#Building a data corpus by removing all stopwords except 'not'. Because 'not' can be an important estimator to differentiate between positive and negative reviews.    \n",
    "count=0                   #Iterator to iterate through the list of reviews and check if a given review belongs to the positive or negative class\n",
    "string=' '    \n",
    "data_corpus=[]\n",
    "all_positive_words=[] #Store all the relevant words from Positive reviews\n",
    "all_negative_words=[] #Store all the relevant words from Negative reviews\n",
    "stemed_word=''\n",
    "\n",
    "for review in dataframe['Text'].values:\n",
    "    filtered_review=[]\n",
    "    review=removeHtml(review) #Remove HTMl tags\n",
    "    review = preprocess(review)\n",
    "    \n",
    "    for word in review.split():\n",
    "        for cleaned_words in removePunctuations(word).split():\n",
    "            if(cleaned_words.isalpha() & (len(cleaned_words)>2)):   #Ignoring words whose length is less than or equal to 2.\n",
    "                if(cleaned_words.lower() not in custom_stopwords):\n",
    "                    stemed_word=(sno.stem(cleaned_words.lower()))\n",
    "                    filtered_review.append(stemed_word)\n",
    "                    if (dataframe['Class_Labels'].values)[count] == 1: \n",
    "                        all_positive_words.append(stemed_word) #List of all the relevant words from Positive reviews\n",
    "                    if(dataframe['Class_Labels'].values)[count] == 0:\n",
    "                        all_negative_words.append(stemed_word) #List of all the relevant words from Negative reviews\n",
    "                else:\n",
    "                    continue\n",
    "            else:\n",
    "                continue \n",
    "    string = \" \".join(filtered_review) #Final string of cleaned words    \n",
    "    data_corpus.append(string) #Data corpus contaning cleaned reviews from the whole dataset\n",
    "    count+=1\n",
    "    \n",
    "print(\"\\nTime taken to clean all reviews:\", datetime.now() - start) \n",
    "\n",
    "print(\"The length of the data corpus is : {}\".format(len(data_corpus)))\n",
    "\n",
    "#Adding a column of CleanedText to the table final which stores the data_corpus after pre-processing the reviews \n",
    "dataframe['ProcessedText']=data_corpus \n",
    "\n",
    "print(\"Printing the number of positive and negative reviews after data cleaning.\")\n",
    "print(dataframe['Class_Labels'].value_counts())"
   ]
  },
  {
   "cell_type": "code",
   "execution_count": 0,
   "metadata": {
    "colab": {},
    "colab_type": "code",
    "id": "H8pukMPMTuOw"
   },
   "outputs": [],
   "source": [
    "#Store final table into an SQlLite table for future.\n",
    "connection_sqlobject = sqlite3.connect('/content/drive/My Drive/amazon/RNN_AmazonReviews.sqlite')\n",
    "c=connection_sqlobject.cursor()\n",
    "connection_sqlobject.text_factory = str\n",
    "dataframe.to_sql('Reviews', connection_sqlobject, if_exists='replace', index=True)\n",
    "connection_sqlobject.close()\n",
    "\n",
    "import pickle\n",
    "with open('/content/drive/My Drive/amazon/data_corpus.pkl', 'wb') as f:\n",
    "    pickle.dump(data_corpus, f)\n",
    "    \n",
    "with open('/content/drive/My Drive/amazon/all_positive_words.pkl', 'wb') as f:\n",
    "    pickle.dump(all_positive_words, f)\n",
    "    \n",
    "with open('/content/drive/My Drive/amazon/all_negative_words.pkl', 'wb') as f:\n",
    "    pickle.dump(all_negative_words, f)"
   ]
  },
  {
   "cell_type": "code",
   "execution_count": 0,
   "metadata": {
    "colab": {},
    "colab_type": "code",
    "id": "XJ4XSOkVTuO3"
   },
   "outputs": [],
   "source": [
    "#Creating the connection with database file.\n",
    "if os.path.isfile('/content/drive/My Drive/amazon/RNN_AmazonReviews.sqlite'):\n",
    "    connection = sqlite3.connect('/content/drive/My Drive/amazon/RNN_AmazonReviews.sqlite')\n",
    "    dataframe = pd.read_sql_query(\"\"\"SELECT * from Reviews\"\"\", connection)\n",
    "    connection.close() #Always remember to close the database\n",
    "else:\n",
    "    print(\"File not present!\")"
   ]
  },
  {
   "cell_type": "code",
   "execution_count": 0,
   "metadata": {
    "colab": {
     "base_uri": "https://localhost:8080/",
     "height": 415
    },
    "colab_type": "code",
    "id": "jo7ugpRWTuO-",
    "outputId": "722caf4f-91b7-4754-eae0-f29cdbca9d37"
   },
   "outputs": [
    {
     "name": "stdout",
     "output_type": "stream",
     "text": [
      "Empty DataFrame\n",
      "Columns: [index, Time, Text, Class_Labels, ProcessedText]\n",
      "Index: []\n"
     ]
    },
    {
     "data": {
      "text/html": [
       "<div>\n",
       "<style scoped>\n",
       "    .dataframe tbody tr th:only-of-type {\n",
       "        vertical-align: middle;\n",
       "    }\n",
       "\n",
       "    .dataframe tbody tr th {\n",
       "        vertical-align: top;\n",
       "    }\n",
       "\n",
       "    .dataframe thead th {\n",
       "        text-align: right;\n",
       "    }\n",
       "</style>\n",
       "<table border=\"1\" class=\"dataframe\">\n",
       "  <thead>\n",
       "    <tr style=\"text-align: right;\">\n",
       "      <th></th>\n",
       "      <th>index</th>\n",
       "      <th>Time</th>\n",
       "      <th>Text</th>\n",
       "      <th>Class_Labels</th>\n",
       "      <th>ProcessedText</th>\n",
       "    </tr>\n",
       "  </thead>\n",
       "  <tbody>\n",
       "    <tr>\n",
       "      <th>0</th>\n",
       "      <td>0</td>\n",
       "      <td>1351209600</td>\n",
       "      <td>I just got this coffee a few days ago. I had c...</td>\n",
       "      <td>0</td>\n",
       "      <td>got coffe day ago coffe bean yesterday today m...</td>\n",
       "    </tr>\n",
       "    <tr>\n",
       "      <th>1</th>\n",
       "      <td>1</td>\n",
       "      <td>1351209600</td>\n",
       "      <td>Very pleased with the quality of the espresso....</td>\n",
       "      <td>1</td>\n",
       "      <td>pleas qualiti espresso pod sturdi enough withs...</td>\n",
       "    </tr>\n",
       "    <tr>\n",
       "      <th>2</th>\n",
       "      <td>2</td>\n",
       "      <td>1351209600</td>\n",
       "      <td>Bought this with my new Oster Belgium waffle m...</td>\n",
       "      <td>1</td>\n",
       "      <td>bought new oster belgium waffl maker best waff...</td>\n",
       "    </tr>\n",
       "    <tr>\n",
       "      <th>3</th>\n",
       "      <td>3</td>\n",
       "      <td>1351209600</td>\n",
       "      <td>We drink a lot of tea... from all over the wor...</td>\n",
       "      <td>0</td>\n",
       "      <td>drink lot tea world far worst tast tea purchas...</td>\n",
       "    </tr>\n",
       "    <tr>\n",
       "      <th>4</th>\n",
       "      <td>4</td>\n",
       "      <td>1351209600</td>\n",
       "      <td>I have always bought my pure vanilla extract i...</td>\n",
       "      <td>1</td>\n",
       "      <td>alway bought pure vanilla extract mexico got t...</td>\n",
       "    </tr>\n",
       "    <tr>\n",
       "      <th>5</th>\n",
       "      <td>5</td>\n",
       "      <td>1351209600</td>\n",
       "      <td>From the label on the Cadbury Screme Egg: \"ALL...</td>\n",
       "      <td>1</td>\n",
       "      <td>label cadburi screme egg allergi inform manufa...</td>\n",
       "    </tr>\n",
       "    <tr>\n",
       "      <th>6</th>\n",
       "      <td>6</td>\n",
       "      <td>1351209600</td>\n",
       "      <td>Best soup mix I've tried. I love making soup, ...</td>\n",
       "      <td>1</td>\n",
       "      <td>best soup mix tri love make soup best tast eas...</td>\n",
       "    </tr>\n",
       "    <tr>\n",
       "      <th>7</th>\n",
       "      <td>7</td>\n",
       "      <td>1351209600</td>\n",
       "      <td>try it &amp; we shared with the familys/all han th...</td>\n",
       "      <td>1</td>\n",
       "      <td>tri share famili han thumb cut good lite oliv ...</td>\n",
       "    </tr>\n",
       "    <tr>\n",
       "      <th>8</th>\n",
       "      <td>8</td>\n",
       "      <td>1351209600</td>\n",
       "      <td>If you like butter flavor this is the best mic...</td>\n",
       "      <td>1</td>\n",
       "      <td>like butter flavor best microwav popcorn avail...</td>\n",
       "    </tr>\n",
       "    <tr>\n",
       "      <th>9</th>\n",
       "      <td>9</td>\n",
       "      <td>1351209600</td>\n",
       "      <td>I love all sorts of teas. My friends know this...</td>\n",
       "      <td>1</td>\n",
       "      <td>love sort tea friend know travel often bring t...</td>\n",
       "    </tr>\n",
       "  </tbody>\n",
       "</table>\n",
       "</div>"
      ],
      "text/plain": [
       "   index        Time                                               Text  \\\n",
       "0      0  1351209600  I just got this coffee a few days ago. I had c...   \n",
       "1      1  1351209600  Very pleased with the quality of the espresso....   \n",
       "2      2  1351209600  Bought this with my new Oster Belgium waffle m...   \n",
       "3      3  1351209600  We drink a lot of tea... from all over the wor...   \n",
       "4      4  1351209600  I have always bought my pure vanilla extract i...   \n",
       "5      5  1351209600  From the label on the Cadbury Screme Egg: \"ALL...   \n",
       "6      6  1351209600  Best soup mix I've tried. I love making soup, ...   \n",
       "7      7  1351209600  try it & we shared with the familys/all han th...   \n",
       "8      8  1351209600  If you like butter flavor this is the best mic...   \n",
       "9      9  1351209600  I love all sorts of teas. My friends know this...   \n",
       "\n",
       "   Class_Labels                                      ProcessedText  \n",
       "0             0  got coffe day ago coffe bean yesterday today m...  \n",
       "1             1  pleas qualiti espresso pod sturdi enough withs...  \n",
       "2             1  bought new oster belgium waffl maker best waff...  \n",
       "3             0  drink lot tea world far worst tast tea purchas...  \n",
       "4             1  alway bought pure vanilla extract mexico got t...  \n",
       "5             1  label cadburi screme egg allergi inform manufa...  \n",
       "6             1  best soup mix tri love make soup best tast eas...  \n",
       "7             1  tri share famili han thumb cut good lite oliv ...  \n",
       "8             1  like butter flavor best microwav popcorn avail...  \n",
       "9             1  love sort tea friend know travel often bring t...  "
      ]
     },
     "execution_count": 14,
     "metadata": {
      "tags": []
     },
     "output_type": "execute_result"
    }
   ],
   "source": [
    "#Check if there are any null rows.\n",
    "nan_rows = dataframe[dataframe.isnull().any(1)]\n",
    "print(nan_rows)\n",
    "\n",
    "#Display the table after cleaning the texts.\n",
    "dataframe.head(10)"
   ]
  },
  {
   "cell_type": "markdown",
   "metadata": {
    "colab_type": "text",
    "id": "NNqdlK9FTuPI"
   },
   "source": [
    "<h3>Display top 50 most frequently occuring Positive and Negative words.</h3>"
   ]
  },
  {
   "cell_type": "code",
   "execution_count": 0,
   "metadata": {
    "colab": {
     "base_uri": "https://localhost:8080/",
     "height": 89
    },
    "colab_type": "code",
    "id": "utHxpGlYTuPK",
    "outputId": "980214d5-695f-45a9-9a35-3362982a65c4"
   },
   "outputs": [
    {
     "name": "stdout",
     "output_type": "stream",
     "text": [
      "Most Common Positive Words :  [('not', 293997), ('like', 141050), ('tast', 131306), ('good', 113837), ('flavor', 111644), ('love', 107727), ('great', 104581), ('use', 104342), ('one', 97737), ('product', 92279), ('tri', 87158), ('tea', 84869), ('coffe', 79785), ('make', 75417), ('would', 72872), ('get', 72271), ('food', 65611), ('time', 56216), ('buy', 54320), ('realli', 52810), ('eat', 52304), ('amazon', 50035), ('price', 49480), ('also', 48134), ('find', 48133), ('much', 47924), ('best', 47840), ('order', 47247), ('littl', 46172), ('well', 43650), ('drink', 42909), ('store', 42462), ('dog', 41522), ('bag', 41218), ('even', 38903), ('cup', 38864), ('mix', 37326), ('day', 36620), ('chocol', 36588), ('better', 36588), ('year', 35273), ('sugar', 34575), ('recommend', 34443), ('sweet', 34371), ('water', 33191), ('box', 32314), ('high', 31360), ('found', 31153), ('first', 30493), ('brand', 30023)]\n",
      "\n",
      "Most Common Negative Words :  [('not', 95671), ('tast', 35197), ('like', 32793), ('product', 28697), ('would', 23363), ('one', 20794), ('flavor', 20021), ('tri', 17798), ('use', 15369), ('good', 15188), ('coffe', 14899), ('get', 13801), ('buy', 13771), ('order', 13020), ('food', 12911), ('tea', 11789), ('even', 11114), ('box', 10945), ('amazon', 10159), ('time', 9932), ('make', 9870), ('bag', 9834), ('eat', 9550), ('much', 9465), ('realli', 9415), ('look', 8996), ('dog', 8746), ('could', 8707), ('dollar', 8652), ('packag', 8645), ('love', 8552), ('review', 8376), ('purchas', 8129), ('bought', 7673), ('first', 7607), ('disappoint', 7480), ('bad', 7472), ('cup', 7268), ('want', 7194), ('better', 7184), ('price', 7061), ('water', 7025), ('chocol', 6998), ('also', 6926), ('think', 6878), ('drink', 6825), ('made', 6747), ('say', 6655), ('ingredi', 6649), ('sugar', 6602)]\n"
     ]
    }
   ],
   "source": [
    "import pickle\n",
    "with open('/content/drive/My Drive/amazon/all_positive_words.pkl', 'rb') as f:\n",
    "    all_positive_words=pickle.load(f)\n",
    "with open('/content/drive/My Drive/amazon/all_negative_words.pkl', 'rb') as f:\n",
    "    all_negative_words=pickle.load(f)\n",
    "\n",
    "\n",
    "freq_positive=nltk.FreqDist(all_positive_words)\n",
    "freq_negative=nltk.FreqDist(all_negative_words)\n",
    "print(\"Most Common Positive Words : \",freq_positive.most_common(50))\n",
    "print(\"\\nMost Common Negative Words : \",freq_negative.most_common(50))"
   ]
  },
  {
   "cell_type": "markdown",
   "metadata": {
    "colab_type": "text",
    "id": "rslFzIq3TuPU"
   },
   "source": [
    "<h3>Analysis of Words : Total number of unique words.</h3>"
   ]
  },
  {
   "cell_type": "code",
   "execution_count": 0,
   "metadata": {
    "colab": {
     "base_uri": "https://localhost:8080/",
     "height": 141
    },
    "colab_type": "code",
    "id": "sX6bQpabTuPW",
    "outputId": "319c9095-5cab-4343-ed07-12bcbdadabce"
   },
   "outputs": [
    {
     "name": "stdout",
     "output_type": "stream",
     "text": [
      "\n",
      "Time taken to vectorize the words into BOW representation: 0:00:10.432750\n",
      "Number of unique words in our vocalbulary: 71995\n",
      "\n",
      "Some of the random words we have :\n",
      " ['abras', 'abreast', 'abreva', 'abrevi', 'abridg', 'abrir', 'abroa', 'abroad', 'abrook', 'abrotanum', 'abrubt', 'abrupt', 'abruzzi', 'abruzzo', 'absalut', 'abscess', 'abscond', 'absenc', 'absens', 'absensc', 'absent', 'absentmind', 'absinth', 'absinthett', 'absinthium', 'abslut', 'abso', 'absofrigginlut', 'absolet', 'absolout', 'absolt', 'absolu', 'absoluet', 'absoluey', 'absoluit', 'absoluley', 'absolultey', 'absolulti', 'absolulut', 'absolust', 'absolut', 'absolutali', 'absolutament', 'absoluteki', 'absolutel', 'absoluteley', 'absolutelli', 'absolutelt', 'absolutelti', 'absoluteti', 'absolutey', 'absolutl', 'absolutley', 'absolutt', 'absolutuley', 'absolv', 'absoprt', 'absorb', 'absorbt', 'absorpt', 'absort', 'absoslut', 'absoulout', 'absoult', 'absoultey', 'absoulut', 'absouluti', 'absout', 'abstain', 'abstemi', 'abstin', 'abstract', 'absulut', 'absur', 'absurd', 'absurt', 'abswer', 'abt', 'abu', 'abud', 'abuela', 'abuelita', 'abum', 'abund', 'abundand', 'abundunc', 'abus', 'abut', 'abv', 'abvious', 'abysm', 'abyss', 'abyssian', 'abyssinian', 'ac', 'aca', 'acabar', 'acabaron', 'acacai', 'acacia', 'acadami', 'academ', 'academi', 'academia', 'acadia', 'acadian', 'acai', 'acaia', 'acaiberri', 'acallin', 'acan', 'acana', 'acapulco', 'acc', 'accas', 'acccess', 'acccompani', 'accedi', 'accel', 'accelarad', 'acceler', 'accelerad', 'accent', 'accentu', 'accenu', 'accepet', 'accept', 'acceptal', 'acceptalbl', 'acceptd', 'acces', 'acceses', 'accesori', 'access', 'accessor', 'accessori', 'accid', 'accidc', 'acciden', 'accident', 'accidentaley', 'accidentali', 'accidentley', 'accient', 'acciugh', 'acclaim', 'acclam', 'acclim', 'acclimat', 'accod', 'accolad', 'accomad', 'accomd', 'accomid', 'accommod', 'accomod', 'accomond', 'accompain', 'accompani', 'accompany', 'accompli', 'accomplic', 'accomplish', 'accoord', 'accor', 'accord', 'accordi', 'accordian', 'according', 'accordion', 'accordng', 'accostom', 'accostum', 'account', 'accourd', 'accoustom', 'accouter', 'accoutr', 'accoutra', 'accpet', 'accredit', 'accross', 'accru', 'acct', 'acctual', 'acctuali', 'acctural', 'accuaint', 'accual', 'accuali', 'accuir', 'accumil', 'accummil', 'accumstom', 'accumul', 'accumult', 'accupuncturest', 'accupuncturist', 'accur', 'accuraci']\n"
     ]
    }
   ],
   "source": [
    "start = datetime.now()\n",
    "\n",
    "# Importing & Initializing the \"CountVectorizer\" object, which is scikit-learn's bag of words tool.\n",
    "cv_object = CountVectorizer(tokenizer = lambda x: x.split()) #By default 'split()' will tokenize each tag using space.\n",
    "\n",
    "# fit_transform() does two functions: First, it fits the model and learns the vocabulary; second, it transforms our training data into feature vectors. The input to fit_transform should be a list of strings.\n",
    "words_vectorized = cv_object.fit_transform(dataframe['ProcessedText'])\n",
    "print(\"\\nTime taken to vectorize the words into BOW representation:\", datetime.now() - start)\n",
    "\n",
    "print(\"Number of unique words in our vocalbulary:\", words_vectorized.shape[1])\n",
    "\n",
    "#'get_feature_name()' gives us the vocabulary.\n",
    "words = cv_object.get_feature_names()\n",
    "\n",
    "#Lets look at the words we have.\n",
    "print(\"\\nSome of the random words we have :\\n\", words[200:400])"
   ]
  },
  {
   "cell_type": "markdown",
   "metadata": {
    "colab_type": "text",
    "id": "wJIWBZYnTuPf"
   },
   "source": [
    "<h3>Analysis of Words : Number of times a word appeared. </h3>"
   ]
  },
  {
   "cell_type": "code",
   "execution_count": 0,
   "metadata": {
    "colab": {
     "base_uri": "https://localhost:8080/",
     "height": 363
    },
    "colab_type": "code",
    "id": "NT_FprswTuPh",
    "outputId": "2ae5f98b-7866-4da9-edee-a1b31aaee7bd"
   },
   "outputs": [
    {
     "data": {
      "text/html": [
       "<div>\n",
       "<style scoped>\n",
       "    .dataframe tbody tr th:only-of-type {\n",
       "        vertical-align: middle;\n",
       "    }\n",
       "\n",
       "    .dataframe tbody tr th {\n",
       "        vertical-align: top;\n",
       "    }\n",
       "\n",
       "    .dataframe thead th {\n",
       "        text-align: right;\n",
       "    }\n",
       "</style>\n",
       "<table border=\"1\" class=\"dataframe\">\n",
       "  <thead>\n",
       "    <tr style=\"text-align: right;\">\n",
       "      <th></th>\n",
       "      <th>Word</th>\n",
       "      <th>Frequency</th>\n",
       "    </tr>\n",
       "  </thead>\n",
       "  <tbody>\n",
       "    <tr>\n",
       "      <th>0</th>\n",
       "      <td>a</td>\n",
       "      <td>1</td>\n",
       "    </tr>\n",
       "    <tr>\n",
       "      <th>1</th>\n",
       "      <td>aa</td>\n",
       "      <td>1</td>\n",
       "    </tr>\n",
       "    <tr>\n",
       "      <th>2</th>\n",
       "      <td>aaa</td>\n",
       "      <td>42</td>\n",
       "    </tr>\n",
       "    <tr>\n",
       "      <th>3</th>\n",
       "      <td>aaaa</td>\n",
       "      <td>9</td>\n",
       "    </tr>\n",
       "    <tr>\n",
       "      <th>4</th>\n",
       "      <td>aaaaa</td>\n",
       "      <td>10</td>\n",
       "    </tr>\n",
       "    <tr>\n",
       "      <th>5</th>\n",
       "      <td>aaaaaa</td>\n",
       "      <td>2</td>\n",
       "    </tr>\n",
       "    <tr>\n",
       "      <th>6</th>\n",
       "      <td>aaaaaaaaaaa</td>\n",
       "      <td>1</td>\n",
       "    </tr>\n",
       "    <tr>\n",
       "      <th>7</th>\n",
       "      <td>aaaaaaaaaaaa</td>\n",
       "      <td>1</td>\n",
       "    </tr>\n",
       "    <tr>\n",
       "      <th>8</th>\n",
       "      <td>aaaaaaaaaaaaa</td>\n",
       "      <td>1</td>\n",
       "    </tr>\n",
       "    <tr>\n",
       "      <th>9</th>\n",
       "      <td>aaaaaaaaaaaaaa</td>\n",
       "      <td>1</td>\n",
       "    </tr>\n",
       "  </tbody>\n",
       "</table>\n",
       "</div>"
      ],
      "text/plain": [
       "             Word  Frequency\n",
       "0               a          1\n",
       "1              aa          1\n",
       "2             aaa         42\n",
       "3            aaaa          9\n",
       "4           aaaaa         10\n",
       "5          aaaaaa          2\n",
       "6     aaaaaaaaaaa          1\n",
       "7    aaaaaaaaaaaa          1\n",
       "8   aaaaaaaaaaaaa          1\n",
       "9  aaaaaaaaaaaaaa          1"
      ]
     },
     "execution_count": 17,
     "metadata": {
      "tags": []
     },
     "output_type": "execute_result"
    }
   ],
   "source": [
    "#Lets now store the document term matrix in a dictionary.\n",
    "frequencies = words_vectorized.sum(axis=0).A1 #axis=0 for columns. Column contain the number of times the words have occured\n",
    "word_frequency = dict(zip(words, frequencies))\n",
    "\n",
    "#Saving this dictionary to csv files.\n",
    "import csv\n",
    "with open('/content/drive/My Drive/amazon/word_frequency.csv', 'w') as csv_file:\n",
    "    writer = csv.writer(csv_file)\n",
    "    for key, value in word_frequency.items():\n",
    "        writer.writerow([key, value])\n",
    "\n",
    "#Load the word_count_df\n",
    "words_count_df = pd.read_csv(\"/content/drive/My Drive/amazon/word_frequency.csv\", names=['Word', 'Frequency'])\n",
    "\n",
    "#Display the number of times each tag appeared.\n",
    "words_count_df.head(10)"
   ]
  },
  {
   "cell_type": "markdown",
   "metadata": {
    "colab_type": "text",
    "id": "eavU57chTuPw"
   },
   "source": [
    "<h3>Analysis of Words : Sort the words by frequency of their occurences. </h3>"
   ]
  },
  {
   "cell_type": "code",
   "execution_count": 0,
   "metadata": {
    "colab": {
     "base_uri": "https://localhost:8080/",
     "height": 2023
    },
    "colab_type": "code",
    "id": "mcX2wd8sTuQG",
    "outputId": "f0db4941-1fe8-4f59-ba00-4cde96badb34",
    "scrolled": true
   },
   "outputs": [
    {
     "data": {
      "text/html": [
       "<div>\n",
       "<style scoped>\n",
       "    .dataframe tbody tr th:only-of-type {\n",
       "        vertical-align: middle;\n",
       "    }\n",
       "\n",
       "    .dataframe tbody tr th {\n",
       "        vertical-align: top;\n",
       "    }\n",
       "\n",
       "    .dataframe thead th {\n",
       "        text-align: right;\n",
       "    }\n",
       "</style>\n",
       "<table border=\"1\" class=\"dataframe\">\n",
       "  <thead>\n",
       "    <tr style=\"text-align: right;\">\n",
       "      <th></th>\n",
       "      <th>Word</th>\n",
       "      <th>Frequency</th>\n",
       "    </tr>\n",
       "    <tr>\n",
       "      <th>Rank</th>\n",
       "      <th></th>\n",
       "      <th></th>\n",
       "    </tr>\n",
       "  </thead>\n",
       "  <tbody>\n",
       "    <tr>\n",
       "      <th>1</th>\n",
       "      <td>not</td>\n",
       "      <td>389668</td>\n",
       "    </tr>\n",
       "    <tr>\n",
       "      <th>2</th>\n",
       "      <td>like</td>\n",
       "      <td>173843</td>\n",
       "    </tr>\n",
       "    <tr>\n",
       "      <th>3</th>\n",
       "      <td>tast</td>\n",
       "      <td>166503</td>\n",
       "    </tr>\n",
       "    <tr>\n",
       "      <th>4</th>\n",
       "      <td>flavor</td>\n",
       "      <td>131665</td>\n",
       "    </tr>\n",
       "    <tr>\n",
       "      <th>5</th>\n",
       "      <td>good</td>\n",
       "      <td>129025</td>\n",
       "    </tr>\n",
       "    <tr>\n",
       "      <th>6</th>\n",
       "      <td>product</td>\n",
       "      <td>120976</td>\n",
       "    </tr>\n",
       "    <tr>\n",
       "      <th>7</th>\n",
       "      <td>use</td>\n",
       "      <td>119711</td>\n",
       "    </tr>\n",
       "    <tr>\n",
       "      <th>8</th>\n",
       "      <td>one</td>\n",
       "      <td>118531</td>\n",
       "    </tr>\n",
       "    <tr>\n",
       "      <th>9</th>\n",
       "      <td>love</td>\n",
       "      <td>116279</td>\n",
       "    </tr>\n",
       "    <tr>\n",
       "      <th>10</th>\n",
       "      <td>great</td>\n",
       "      <td>110551</td>\n",
       "    </tr>\n",
       "    <tr>\n",
       "      <th>11</th>\n",
       "      <td>tri</td>\n",
       "      <td>104956</td>\n",
       "    </tr>\n",
       "    <tr>\n",
       "      <th>12</th>\n",
       "      <td>tea</td>\n",
       "      <td>96658</td>\n",
       "    </tr>\n",
       "    <tr>\n",
       "      <th>13</th>\n",
       "      <td>would</td>\n",
       "      <td>96235</td>\n",
       "    </tr>\n",
       "    <tr>\n",
       "      <th>14</th>\n",
       "      <td>coffe</td>\n",
       "      <td>94684</td>\n",
       "    </tr>\n",
       "    <tr>\n",
       "      <th>15</th>\n",
       "      <td>get</td>\n",
       "      <td>86072</td>\n",
       "    </tr>\n",
       "    <tr>\n",
       "      <th>16</th>\n",
       "      <td>make</td>\n",
       "      <td>85287</td>\n",
       "    </tr>\n",
       "    <tr>\n",
       "      <th>17</th>\n",
       "      <td>food</td>\n",
       "      <td>78522</td>\n",
       "    </tr>\n",
       "    <tr>\n",
       "      <th>18</th>\n",
       "      <td>buy</td>\n",
       "      <td>68091</td>\n",
       "    </tr>\n",
       "    <tr>\n",
       "      <th>19</th>\n",
       "      <td>time</td>\n",
       "      <td>66148</td>\n",
       "    </tr>\n",
       "    <tr>\n",
       "      <th>20</th>\n",
       "      <td>realli</td>\n",
       "      <td>62225</td>\n",
       "    </tr>\n",
       "    <tr>\n",
       "      <th>21</th>\n",
       "      <td>eat</td>\n",
       "      <td>61854</td>\n",
       "    </tr>\n",
       "    <tr>\n",
       "      <th>22</th>\n",
       "      <td>order</td>\n",
       "      <td>60267</td>\n",
       "    </tr>\n",
       "    <tr>\n",
       "      <th>23</th>\n",
       "      <td>amazon</td>\n",
       "      <td>60194</td>\n",
       "    </tr>\n",
       "    <tr>\n",
       "      <th>24</th>\n",
       "      <td>much</td>\n",
       "      <td>57389</td>\n",
       "    </tr>\n",
       "    <tr>\n",
       "      <th>25</th>\n",
       "      <td>price</td>\n",
       "      <td>56541</td>\n",
       "    </tr>\n",
       "    <tr>\n",
       "      <th>26</th>\n",
       "      <td>also</td>\n",
       "      <td>55060</td>\n",
       "    </tr>\n",
       "    <tr>\n",
       "      <th>27</th>\n",
       "      <td>find</td>\n",
       "      <td>53602</td>\n",
       "    </tr>\n",
       "    <tr>\n",
       "      <th>28</th>\n",
       "      <td>littl</td>\n",
       "      <td>51816</td>\n",
       "    </tr>\n",
       "    <tr>\n",
       "      <th>29</th>\n",
       "      <td>bag</td>\n",
       "      <td>51052</td>\n",
       "    </tr>\n",
       "    <tr>\n",
       "      <th>30</th>\n",
       "      <td>best</td>\n",
       "      <td>50820</td>\n",
       "    </tr>\n",
       "    <tr>\n",
       "      <th>...</th>\n",
       "      <td>...</td>\n",
       "      <td>...</td>\n",
       "    </tr>\n",
       "    <tr>\n",
       "      <th>71966</th>\n",
       "      <td>iyidir</td>\n",
       "      <td>1</td>\n",
       "    </tr>\n",
       "    <tr>\n",
       "      <th>71967</th>\n",
       "      <td>iykwim</td>\n",
       "      <td>1</td>\n",
       "    </tr>\n",
       "    <tr>\n",
       "      <th>71968</th>\n",
       "      <td>iyt</td>\n",
       "      <td>1</td>\n",
       "    </tr>\n",
       "    <tr>\n",
       "      <th>71969</th>\n",
       "      <td>izat</td>\n",
       "      <td>1</td>\n",
       "    </tr>\n",
       "    <tr>\n",
       "      <th>71970</th>\n",
       "      <td>izer</td>\n",
       "      <td>1</td>\n",
       "    </tr>\n",
       "    <tr>\n",
       "      <th>71971</th>\n",
       "      <td>izzard</td>\n",
       "      <td>1</td>\n",
       "    </tr>\n",
       "    <tr>\n",
       "      <th>71972</th>\n",
       "      <td>izze</td>\n",
       "      <td>1</td>\n",
       "    </tr>\n",
       "    <tr>\n",
       "      <th>71973</th>\n",
       "      <td>ivo</td>\n",
       "      <td>1</td>\n",
       "    </tr>\n",
       "    <tr>\n",
       "      <th>71974</th>\n",
       "      <td>ivernia</td>\n",
       "      <td>1</td>\n",
       "    </tr>\n",
       "    <tr>\n",
       "      <th>71975</th>\n",
       "      <td>itsey</td>\n",
       "      <td>1</td>\n",
       "    </tr>\n",
       "    <tr>\n",
       "      <th>71976</th>\n",
       "      <td>itup</td>\n",
       "      <td>1</td>\n",
       "    </tr>\n",
       "    <tr>\n",
       "      <th>71977</th>\n",
       "      <td>itsgreat</td>\n",
       "      <td>1</td>\n",
       "    </tr>\n",
       "    <tr>\n",
       "      <th>71978</th>\n",
       "      <td>itsjudytim</td>\n",
       "      <td>1</td>\n",
       "    </tr>\n",
       "    <tr>\n",
       "      <th>71979</th>\n",
       "      <td>itslf</td>\n",
       "      <td>1</td>\n",
       "    </tr>\n",
       "    <tr>\n",
       "      <th>71980</th>\n",
       "      <td>itsmel</td>\n",
       "      <td>1</td>\n",
       "    </tr>\n",
       "    <tr>\n",
       "      <th>71981</th>\n",
       "      <td>itsnt</td>\n",
       "      <td>1</td>\n",
       "    </tr>\n",
       "    <tr>\n",
       "      <th>71982</th>\n",
       "      <td>itss</td>\n",
       "      <td>1</td>\n",
       "    </tr>\n",
       "    <tr>\n",
       "      <th>71983</th>\n",
       "      <td>itth</td>\n",
       "      <td>1</td>\n",
       "    </tr>\n",
       "    <tr>\n",
       "      <th>71984</th>\n",
       "      <td>ittwic</td>\n",
       "      <td>1</td>\n",
       "    </tr>\n",
       "    <tr>\n",
       "      <th>71985</th>\n",
       "      <td>itw</td>\n",
       "      <td>1</td>\n",
       "    </tr>\n",
       "    <tr>\n",
       "      <th>71986</th>\n",
       "      <td>iven</td>\n",
       "      <td>1</td>\n",
       "    </tr>\n",
       "    <tr>\n",
       "      <th>71987</th>\n",
       "      <td>ityp</td>\n",
       "      <td>1</td>\n",
       "    </tr>\n",
       "    <tr>\n",
       "      <th>71988</th>\n",
       "      <td>itz</td>\n",
       "      <td>1</td>\n",
       "    </tr>\n",
       "    <tr>\n",
       "      <th>71989</th>\n",
       "      <td>itza</td>\n",
       "      <td>1</td>\n",
       "    </tr>\n",
       "    <tr>\n",
       "      <th>71990</th>\n",
       "      <td>iuka</td>\n",
       "      <td>1</td>\n",
       "    </tr>\n",
       "    <tr>\n",
       "      <th>71991</th>\n",
       "      <td>iun</td>\n",
       "      <td>1</td>\n",
       "    </tr>\n",
       "    <tr>\n",
       "      <th>71992</th>\n",
       "      <td>iva</td>\n",
       "      <td>1</td>\n",
       "    </tr>\n",
       "    <tr>\n",
       "      <th>71993</th>\n",
       "      <td>ivan</td>\n",
       "      <td>1</td>\n",
       "    </tr>\n",
       "    <tr>\n",
       "      <th>71994</th>\n",
       "      <td>ivb</td>\n",
       "      <td>1</td>\n",
       "    </tr>\n",
       "    <tr>\n",
       "      <th>71995</th>\n",
       "      <td>zzzzzzzzzzzzzzzzzzzzzzzzzzzzzzzzzzzzzzzzz</td>\n",
       "      <td>1</td>\n",
       "    </tr>\n",
       "  </tbody>\n",
       "</table>\n",
       "<p>71995 rows × 2 columns</p>\n",
       "</div>"
      ],
      "text/plain": [
       "                                            Word  Frequency\n",
       "Rank                                                       \n",
       "1                                            not     389668\n",
       "2                                           like     173843\n",
       "3                                           tast     166503\n",
       "4                                         flavor     131665\n",
       "5                                           good     129025\n",
       "6                                        product     120976\n",
       "7                                            use     119711\n",
       "8                                            one     118531\n",
       "9                                           love     116279\n",
       "10                                         great     110551\n",
       "11                                           tri     104956\n",
       "12                                           tea      96658\n",
       "13                                         would      96235\n",
       "14                                         coffe      94684\n",
       "15                                           get      86072\n",
       "16                                          make      85287\n",
       "17                                          food      78522\n",
       "18                                           buy      68091\n",
       "19                                          time      66148\n",
       "20                                        realli      62225\n",
       "21                                           eat      61854\n",
       "22                                         order      60267\n",
       "23                                        amazon      60194\n",
       "24                                          much      57389\n",
       "25                                         price      56541\n",
       "26                                          also      55060\n",
       "27                                          find      53602\n",
       "28                                         littl      51816\n",
       "29                                           bag      51052\n",
       "30                                          best      50820\n",
       "...                                          ...        ...\n",
       "71966                                     iyidir          1\n",
       "71967                                     iykwim          1\n",
       "71968                                        iyt          1\n",
       "71969                                       izat          1\n",
       "71970                                       izer          1\n",
       "71971                                     izzard          1\n",
       "71972                                       izze          1\n",
       "71973                                        ivo          1\n",
       "71974                                    ivernia          1\n",
       "71975                                      itsey          1\n",
       "71976                                       itup          1\n",
       "71977                                   itsgreat          1\n",
       "71978                                 itsjudytim          1\n",
       "71979                                      itslf          1\n",
       "71980                                     itsmel          1\n",
       "71981                                      itsnt          1\n",
       "71982                                       itss          1\n",
       "71983                                       itth          1\n",
       "71984                                     ittwic          1\n",
       "71985                                        itw          1\n",
       "71986                                       iven          1\n",
       "71987                                       ityp          1\n",
       "71988                                        itz          1\n",
       "71989                                       itza          1\n",
       "71990                                       iuka          1\n",
       "71991                                        iun          1\n",
       "71992                                        iva          1\n",
       "71993                                       ivan          1\n",
       "71994                                        ivb          1\n",
       "71995  zzzzzzzzzzzzzzzzzzzzzzzzzzzzzzzzzzzzzzzzz          1\n",
       "\n",
       "[71995 rows x 2 columns]"
      ]
     },
     "execution_count": 18,
     "metadata": {
      "tags": []
     },
     "output_type": "execute_result"
    }
   ],
   "source": [
    "words_count_df = pd.read_csv('/content/drive/My Drive/amazon/word_frequency.csv', names=['Word','Frequency'])\n",
    "\n",
    "#Sort the words according to their number of occurences.\n",
    "words_count_df_sorted = words_count_df.sort_values(['Frequency'], ascending=False)\n",
    "words_count_df_sorted.reset_index(drop=False)\n",
    "words_count_df_sorted['Rank'] = [i for i in range(1,len(words_count_df['Word'])+1)]\n",
    "\n",
    "words_count_df_sorted=words_count_df_sorted.set_index('Rank')\n",
    "\n",
    "#Save this dataframe\n",
    "connection_sqlobject = sqlite3.connect('/content/drive/My Drive/amazon/RNN_Words_Freq_Rank.sqlite')\n",
    "c=connection_sqlobject.cursor()\n",
    "connection_sqlobject.text_factory = str\n",
    "words_count_df_sorted.to_sql('Rank', connection_sqlobject, if_exists='replace', index=True)\n",
    "connection_sqlobject.close()\n",
    "\n",
    "words_count_df_sorted"
   ]
  },
  {
   "cell_type": "code",
   "execution_count": 0,
   "metadata": {
    "colab": {
     "base_uri": "https://localhost:8080/",
     "height": 645
    },
    "colab_type": "code",
    "id": "4_9OM3vfTuQV",
    "outputId": "6cbf2606-3ce9-4dab-b280-8744db6c1a01"
   },
   "outputs": [
    {
     "data": {
      "image/png": "[encoded data removed]",
      "text/plain": [
       "<Figure size 1800x720 with 1 Axes>"
      ]
     },
     "metadata": {
      "tags": []
     },
     "output_type": "display_data"
    }
   ],
   "source": [
    "i=np.arange(50)\n",
    "words_count_df_sorted.head(50).plot.bar(figsize=(25,10))\n",
    "plt.title('Frequency of top 100 words.')\n",
    "plt.xticks(i, words_count_df_sorted['Word'],rotation=30)\n",
    "plt.xlabel('Word')\n",
    "plt.ylabel('Number of occurences.')\n",
    "plt.show()"
   ]
  },
  {
   "cell_type": "markdown",
   "metadata": {
    "colab_type": "text",
    "id": "6g3UCSU1TuQi"
   },
   "source": [
    "<h3>Encoding each review based on the Ranks of words present in each of them. </h3>"
   ]
  },
  {
   "cell_type": "code",
   "execution_count": 0,
   "metadata": {
    "colab": {
     "base_uri": "https://localhost:8080/",
     "height": 34
    },
    "colab_type": "code",
    "id": "VVidJNDCTuQj",
    "outputId": "7aeadfac-8674-4f5e-9b4b-c154b6d31f54"
   },
   "outputs": [
    {
     "name": "stdout",
     "output_type": "stream",
     "text": [
      "Time taken to encode all the reviews:  0:00:10.856004\n"
     ]
    }
   ],
   "source": [
    "keys = list(words_count_df_sorted['Word'])\n",
    "values = list(words_count_df_sorted['Frequency'])\n",
    "dictionary = dict(zip(keys, values))\n",
    "\n",
    "start = datetime.now()\n",
    "encoded_reviews = []\n",
    "omit=['nan','null'] #Few words were contaning null and nan\n",
    "for review in dataframe['ProcessedText'].values:\n",
    "    review_encode=[]\n",
    "    for word in review.split():\n",
    "        if(word not in omit):\n",
    "            rank=dictionary[str(word)] #Get rank of the word\n",
    "            review_encode.append(rank) #Encoded values for one single review\n",
    "    encoded_reviews.append(np.array(review_encode)) #Encoded values for all reviews\n",
    "    \n",
    "print(\"Time taken to encode all the reviews: \", datetime.now()-start)"
   ]
  },
  {
   "cell_type": "code",
   "execution_count": 0,
   "metadata": {
    "colab": {
     "base_uri": "https://localhost:8080/",
     "height": 363
    },
    "colab_type": "code",
    "id": "kgXswfOuTuQq",
    "outputId": "c0b0db1f-2ed9-465f-8fcb-dbbef71bd670"
   },
   "outputs": [
    {
     "data": {
      "text/html": [
       "<div>\n",
       "<style scoped>\n",
       "    .dataframe tbody tr th:only-of-type {\n",
       "        vertical-align: middle;\n",
       "    }\n",
       "\n",
       "    .dataframe tbody tr th {\n",
       "        vertical-align: top;\n",
       "    }\n",
       "\n",
       "    .dataframe thead th {\n",
       "        text-align: right;\n",
       "    }\n",
       "</style>\n",
       "<table border=\"1\" class=\"dataframe\">\n",
       "  <thead>\n",
       "    <tr style=\"text-align: right;\">\n",
       "      <th></th>\n",
       "      <th>ProcessedText</th>\n",
       "      <th>EncodedText</th>\n",
       "      <th>Class_Labels</th>\n",
       "    </tr>\n",
       "  </thead>\n",
       "  <tbody>\n",
       "    <tr>\n",
       "      <th>0</th>\n",
       "      <td>got coffe day ago coffe bean yesterday today m...</td>\n",
       "      <td>[26266, 94684, 41730, 9618, 94684, 17211, 1072...</td>\n",
       "      <td>0</td>\n",
       "    </tr>\n",
       "    <tr>\n",
       "      <th>1</th>\n",
       "      <td>pleas qualiti espresso pod sturdi enough withs...</td>\n",
       "      <td>[12327, 22717, 5757, 6402, 838, 20762, 97, 125...</td>\n",
       "      <td>1</td>\n",
       "    </tr>\n",
       "    <tr>\n",
       "      <th>2</th>\n",
       "      <td>bought new oster belgium waffl maker best waff...</td>\n",
       "      <td>[32557, 16446, 28, 196, 2846, 4744, 50820, 284...</td>\n",
       "      <td>1</td>\n",
       "    </tr>\n",
       "    <tr>\n",
       "      <th>3</th>\n",
       "      <td>drink lot tea world far worst tast tea purchas...</td>\n",
       "      <td>[49734, 27662, 96658, 4843, 17747, 2521, 16650...</td>\n",
       "      <td>0</td>\n",
       "    </tr>\n",
       "    <tr>\n",
       "      <th>4</th>\n",
       "      <td>alway bought pure vanilla extract mexico got t...</td>\n",
       "      <td>[23437, 32557, 5720, 12867, 3707, 581, 26266, ...</td>\n",
       "      <td>1</td>\n",
       "    </tr>\n",
       "    <tr>\n",
       "      <th>5</th>\n",
       "      <td>label cadburi screme egg allergi inform manufa...</td>\n",
       "      <td>[7124, 279, 2, 6222, 4738, 2848, 3686, 357, 60...</td>\n",
       "      <td>1</td>\n",
       "    </tr>\n",
       "    <tr>\n",
       "      <th>6</th>\n",
       "      <td>best soup mix tri love make soup best tast eas...</td>\n",
       "      <td>[50820, 13297, 42652, 104956, 116279, 85287, 1...</td>\n",
       "      <td>1</td>\n",
       "    </tr>\n",
       "    <tr>\n",
       "      <th>7</th>\n",
       "      <td>tri share famili han thumb cut good lite oliv ...</td>\n",
       "      <td>[104956, 4550, 14741, 49, 1008, 7877, 129025, ...</td>\n",
       "      <td>1</td>\n",
       "    </tr>\n",
       "    <tr>\n",
       "      <th>8</th>\n",
       "      <td>like butter flavor best microwav popcorn avail...</td>\n",
       "      <td>[173843, 17576, 131665, 50820, 5133, 8938, 125...</td>\n",
       "      <td>1</td>\n",
       "    </tr>\n",
       "    <tr>\n",
       "      <th>9</th>\n",
       "      <td>love sort tea friend know travel often bring t...</td>\n",
       "      <td>[116279, 3749, 96658, 14888, 30042, 3245, 6922...</td>\n",
       "      <td>1</td>\n",
       "    </tr>\n",
       "  </tbody>\n",
       "</table>\n",
       "</div>"
      ],
      "text/plain": [
       "                                       ProcessedText  \\\n",
       "0  got coffe day ago coffe bean yesterday today m...   \n",
       "1  pleas qualiti espresso pod sturdi enough withs...   \n",
       "2  bought new oster belgium waffl maker best waff...   \n",
       "3  drink lot tea world far worst tast tea purchas...   \n",
       "4  alway bought pure vanilla extract mexico got t...   \n",
       "5  label cadburi screme egg allergi inform manufa...   \n",
       "6  best soup mix tri love make soup best tast eas...   \n",
       "7  tri share famili han thumb cut good lite oliv ...   \n",
       "8  like butter flavor best microwav popcorn avail...   \n",
       "9  love sort tea friend know travel often bring t...   \n",
       "\n",
       "                                         EncodedText  Class_Labels  \n",
       "0  [26266, 94684, 41730, 9618, 94684, 17211, 1072...             0  \n",
       "1  [12327, 22717, 5757, 6402, 838, 20762, 97, 125...             1  \n",
       "2  [32557, 16446, 28, 196, 2846, 4744, 50820, 284...             1  \n",
       "3  [49734, 27662, 96658, 4843, 17747, 2521, 16650...             0  \n",
       "4  [23437, 32557, 5720, 12867, 3707, 581, 26266, ...             1  \n",
       "5  [7124, 279, 2, 6222, 4738, 2848, 3686, 357, 60...             1  \n",
       "6  [50820, 13297, 42652, 104956, 116279, 85287, 1...             1  \n",
       "7  [104956, 4550, 14741, 49, 1008, 7877, 129025, ...             1  \n",
       "8  [173843, 17576, 131665, 50820, 5133, 8938, 125...             1  \n",
       "9  [116279, 3749, 96658, 14888, 30042, 3245, 6922...             1  "
      ]
     },
     "execution_count": 21,
     "metadata": {
      "tags": []
     },
     "output_type": "execute_result"
    }
   ],
   "source": [
    "#Display the dataframe after encoding and removing unneccesry columns.\n",
    "dataframe['EncodedText'] = encoded_reviews\n",
    "dataframe=dataframe.drop(labels=['index','Time', 'Text'], axis=1)\n",
    "dataframe = dataframe[['ProcessedText', 'EncodedText','Class_Labels']]\n",
    "dataframe.head(10)"
   ]
  },
  {
   "cell_type": "code",
   "execution_count": 0,
   "metadata": {
    "colab": {},
    "colab_type": "code",
    "id": "kB8yIZH2Um5_"
   },
   "outputs": [],
   "source": [
    "#Saving the dataframe to csv files.\n",
    "import csv\n",
    "dataframe.to_csv('/content/drive/My Drive/amazon/Encoded_Reviews_DB.csv')"
   ]
  },
  {
   "cell_type": "code",
   "execution_count": 0,
   "metadata": {
    "colab": {},
    "colab_type": "code",
    "id": "iWcrN7i3TuQw"
   },
   "outputs": [],
   "source": [
    "#Optimize this code later. For the time being use keras to pad zeroes.\n",
    "'''#Determine the maximum length of a review \n",
    "max_review_len=0\n",
    "for i in range(0,dataframe.shape[0]):\n",
    "    max_review_len=max(max_review_len,len(dataframe['EncodedText'][i]))\n",
    "    \n",
    "#Add zeroes to the reviews\n",
    "def add_zero(lst):\n",
    "    nb_zeroes=max_review_len-len(lst)\n",
    "    zero_vals=np.array([0]*nb_zeroes)\n",
    "    padded_array = np.hstack((zero_vals,lst))\n",
    "    return padded_array\n",
    "\n",
    "#Add zeroes to the reviews\n",
    "start = datetime.now()\n",
    "padded_matrix=add_zero(dataframe['EncodedText'][0])\n",
    "for i in range(1,dataframe.shape[0]):\n",
    "    np_row=add_zero(dataframe['EncodedText'][i])\n",
    "    padded_matrix=np.vstack((padded_matrix,np_row))\n",
    "    \n",
    "    temp=dataframe.shape[0]//10\n",
    "    if(i%temp==0):\n",
    "        print((i/temp)*10,\"% completed...\")\n",
    "    elif(i==dataframe.shape[0]-1):\n",
    "        print(\"100.0 % completed..\")\n",
    "        \n",
    "print(\"Time taken to pad all the reviews: \", datetime.now()-start)\n",
    "\n",
    "#Convert to numpy matrix and concatenate both of them\n",
    "X=pd.DataFrame(padded_matrix,columns=[i for i in range(0,padded_matrix.shape[1])])\n",
    "y=pd.DataFrame(y,columns=['Class_Label'])\n",
    "encoded_df = pd.concat([X,y],axis=1)'''"
   ]
  },
  {
   "cell_type": "code",
   "execution_count": 0,
   "metadata": {
    "colab": {},
    "colab_type": "code",
    "id": "X-Wm_1kiTuQ9"
   },
   "outputs": [],
   "source": [
    "#Save all the reviews in encoded format.\n",
    "\n",
    "with open('/content/drive/My Drive/amazon/encoded_reviews.pkl', 'wb') as f:\n",
    "    pickle.dump(encoded_reviews, f)\n",
    "    \n",
    "y = list(dataframe['Class_Labels'])\n",
    "with open('/content/drive/My Drive/amazon/class_labels.pkl', 'wb') as f:\n",
    "    pickle.dump(y, f)"
   ]
  },
  {
   "cell_type": "code",
   "execution_count": 0,
   "metadata": {
    "colab": {},
    "colab_type": "code",
    "id": "OmcumF_tiJut"
   },
   "outputs": [],
   "source": [
    "#Load the encoded reviews and class labels from files.\n",
    "with open('/content/drive/My Drive/amazon/encoded_reviews.pkl', 'rb') as f:\n",
    "    encoded_reviews = pickle.load(f)\n",
    "    \n",
    "with open('/content/drive/My Drive/amazon/class_labels.pkl', 'rb') as f:\n",
    "     y=pickle.load(f)\n",
    "    \n",
    "dataframe=pd.read_csv('/content/drive/My Drive/amazon/Encoded_Reviews_DB.csv')"
   ]
  },
  {
   "cell_type": "markdown",
   "metadata": {
    "colab_type": "text",
    "id": "AXmfuI76TuRP"
   },
   "source": [
    "<h3>#LSTM for sequence classification in the Amazon Reviews dataset</h3>"
   ]
  },
  {
   "cell_type": "code",
   "execution_count": 0,
   "metadata": {
    "colab": {
     "base_uri": "https://localhost:8080/",
     "height": 571
    },
    "colab_type": "code",
    "id": "sZudttXSnG0d",
    "outputId": "d08b7f81-cfa9-444b-a479-124dc40753f8"
   },
   "outputs": [
    {
     "name": "stdout",
     "output_type": "stream",
     "text": [
      "The average length of reviews:  39.49883983073886\n",
      "The maximum length of reviews:  1545\n",
      "The minimum length of reviews:  0\n"
     ]
    },
    {
     "data": {
      "text/plain": [
       "Text(0.5, 0, 'Length of reviews')"
      ]
     },
     "execution_count": 4,
     "metadata": {
      "tags": []
     },
     "output_type": "execute_result"
    },
    {
     "data": {
      "image/png": "[encoded data removed]",
      "text/plain": [
       "<Figure size 576x576 with 1 Axes>"
      ]
     },
     "metadata": {
      "tags": []
     },
     "output_type": "display_data"
    }
   ],
   "source": [
    "import numpy as np\n",
    "import pandas as pd\n",
    "import matplotlib.pyplot as plt \n",
    "import seaborn as sns\n",
    "\n",
    "max_review_len=0\n",
    "avg=[]\n",
    "for i in range(0,len(encoded_reviews)):\n",
    "    max_review_len=max(max_review_len,len(encoded_reviews[i]))\n",
    "    avg.append(len(encoded_reviews[i]))\n",
    "\n",
    "avg=np.array(avg)\n",
    "print(\"The average length of reviews: \",avg.mean())\n",
    "print(\"The maximum length of reviews: \",avg.max())\n",
    "print(\"The minimum length of reviews: \",avg.min())\n",
    "\n",
    "\n",
    "\n",
    "# plot (normalized) histogram of the data\n",
    "avg_lens = avg.flatten().reshape(-1,1)\n",
    "\n",
    "fig = plt.figure(figsize=(8,8))\n",
    "plt.subplot(1, 3, 1)\n",
    "plt.title(\"Distribution of Length of reviews.\")\n",
    "ax = sns.violinplot(y=avg,color='b')\n",
    "plt.xlabel('Length of reviews')"
   ]
  },
  {
   "cell_type": "code",
   "execution_count": 0,
   "metadata": {
    "colab": {
     "base_uri": "https://localhost:8080/",
     "height": 104
    },
    "colab_type": "code",
    "id": "zcPBHmpGUU9Q",
    "outputId": "fcc6bbfd-c4ce-41bc-9f4f-d1ac0fc2a709"
   },
   "outputs": [
    {
     "name": "stderr",
     "output_type": "stream",
     "text": [
      "Using TensorFlow backend.\n"
     ]
    },
    {
     "name": "stdout",
     "output_type": "stream",
     "text": [
      "(254919, 200)\n",
      "(254919,)\n",
      "(109252, 200)\n",
      "(109252,)\n"
     ]
    }
   ],
   "source": [
    "#Pad the reviews with zeroes at the start. This is done to make all the dimensions equal so that we can send the data points in batches.\n",
    "#As we can see from the above violin plot, the average length of reviews is 39. Most of the reviews are less than 200 in length, with just a handful of number of reviews having length\n",
    "#greater than 200. So we will pad all the reviews taking the max length to be 200.\n",
    "\n",
    "max_review_len=200\n",
    "   \n",
    "split = math.floor(0.7*len(encoded_reviews))\n",
    "\n",
    "from keras.preprocessing import sequence\n",
    "X_train = sequence.pad_sequences(encoded_reviews[0:split], maxlen=max_review_len)\n",
    "X_test = sequence.pad_sequences(encoded_reviews[split:], maxlen=max_review_len)\n",
    "\n",
    "y = dataframe['Class_Labels']\n",
    "\n",
    "y_train=y[0:split]\n",
    "y_test=y[split:]\n",
    "\n",
    "del(encoded_reviews)\n",
    "\n",
    "print(X_train.shape)\n",
    "print(y_train.shape)\n",
    "print(X_test.shape)\n",
    "print(y_test.shape)"
   ]
  },
  {
   "cell_type": "code",
   "execution_count": 0,
   "metadata": {
    "colab": {},
    "colab_type": "code",
    "id": "igYajScKmqaf"
   },
   "outputs": [],
   "source": [
    "train_df = pd.DataFrame(X_train)\n",
    "train_df['Class_Labels'] = y_train\n",
    "\n",
    "test_df = pd.DataFrame(X_test)\n",
    "test_df['Class_Labels'] = y_test\n",
    "\n",
    "padded_df=pd.concat([train_df,test_df])\n",
    "\n",
    "#Save the padded db into google drive\n",
    "padded_df.to_csv('/content/drive/My Drive/amazon/PaddedReviews_DB.csv')"
   ]
  },
  {
   "cell_type": "code",
   "execution_count": 0,
   "metadata": {
    "colab": {},
    "colab_type": "code",
    "id": "2XnRfPNKEU-T"
   },
   "outputs": [],
   "source": [
    "del(dataframe, all_positive_words, all_negative_words, data_corpus, word_frequency, words_count_df, words_count_df_sorted, train_df, test_df, padded_df)"
   ]
  },
  {
   "cell_type": "code",
   "execution_count": 0,
   "metadata": {
    "colab": {},
    "colab_type": "code",
    "id": "yaooKGX4roFb"
   },
   "outputs": [],
   "source": [
    "#This function is used to plot/update the train and test loss after each epoch.\n",
    "#Reference: https://gist.github.com/greydanus/f6eee59eaf1d90fcb3b534a25362cea4\n",
    "#Reference: https://stackoverflow.com/a/14434334\n",
    "\n",
    "import matplotlib.pyplot as plt\n",
    "import numpy as np\n",
    "import time\n",
    "def plt_dynamic(x, vy, ty, ax, colors=['b']):\n",
    "    ax.plot(x, vy, 'b', label=\"Validation Loss\")\n",
    "    ax.plot(x, ty, 'r', label=\"Train Loss\")\n",
    "    plt.legend()\n",
    "    plt.grid()\n",
    "    fig.canvas.draw()"
   ]
  },
  {
   "cell_type": "code",
   "execution_count": 0,
   "metadata": {
    "colab": {
     "base_uri": "https://localhost:8080/",
     "height": 469
    },
    "colab_type": "code",
    "id": "QKhMajggl37O",
    "outputId": "6bb6cce1-3d12-4b9d-d250-5acd9dd32f3b"
   },
   "outputs": [
    {
     "data": {
      "text/plain": [
       "array([     0,      0,      0,      0,      0,      0,      0,      0,\n",
       "            0,      0,      0,      0,      0,      0,      0,      0,\n",
       "            0,      0,      0,      0,      0,      0,      0,      0,\n",
       "            0,      0,      0,      0,      0,      0,      0,      0,\n",
       "            0,      0,      0,      0,      0,      0,      0,      0,\n",
       "            0,      0,      0,      0,      0,      0,      0,      0,\n",
       "            0,      0,      0,      0,      0,      0,      0,      0,\n",
       "            0,      0,      0,      0,      0,      0,      0,      0,\n",
       "            0,      0,      0,      0,      0,      0,      0,      0,\n",
       "            0,      0,      0,      0,      0,      0,      0,      0,\n",
       "            0,      0,      0,      0,      0,      0,      0,      0,\n",
       "            0,      0,      0,      0,      0,      0,      0,      0,\n",
       "            0,      0,      0,      0,      0,      0,      0,      0,\n",
       "            0,      0,      0,      0,      0,      0,      0,      0,\n",
       "            0,      0,      0,      0,      0,      0,      0,      0,\n",
       "            0,      0,      0,      0,      0,      0,      0,      0,\n",
       "            0,      0,      0,      0,      0,      0,      0,      0,\n",
       "            0,      0,      0,      0,      0,      0,      0,      0,\n",
       "            0,      0,      0,      0,      0,      0,      0,      0,\n",
       "            0,      0,      0,      0,      0,      0,      0,      0,\n",
       "            0,      0,      0,      0,      0,      0,      0,      0,\n",
       "            0,      0,      0,      0,      0,      0,      0,      0,\n",
       "            0,      0,      0,  12327,  22717,   5757,   6402,    838,\n",
       "        20762,     97,   1254,  40216,  12465,   1393,   7183,   3600,\n",
       "         6402,    100,    659,   6952,    908,   6739, 166503,  10183],\n",
       "      dtype=int32)"
      ]
     },
     "execution_count": 7,
     "metadata": {
      "tags": []
     },
     "output_type": "execute_result"
    }
   ],
   "source": [
    "X_train[1]"
   ]
  },
  {
   "cell_type": "code",
   "execution_count": 0,
   "metadata": {
    "colab": {
     "base_uri": "https://localhost:8080/",
     "height": 260
    },
    "colab_type": "code",
    "id": "R-MW5kjjTuRm",
    "outputId": "bae202e6-f586-4cf6-a736-4584882628c3"
   },
   "outputs": [
    {
     "name": "stdout",
     "output_type": "stream",
     "text": [
      "_________________________________________________________________\n",
      "Layer (type)                 Output Shape              Param #   \n",
      "=================================================================\n",
      "embedding_1 (Embedding)      (None, 200, 128)          9215360   \n",
      "_________________________________________________________________\n",
      "lstm_1 (LSTM)                (None, 200)               263200    \n",
      "_________________________________________________________________\n",
      "dense_1 (Dense)              (None, 1)                 201       \n",
      "=================================================================\n",
      "Total params: 9,478,761\n",
      "Trainable params: 9,478,761\n",
      "Non-trainable params: 0\n",
      "_________________________________________________________________\n",
      "None\n"
     ]
    }
   ],
   "source": [
    "import numpy as np\n",
    "import math\n",
    "from keras.datasets import imdb\n",
    "from keras.models import Sequential\n",
    "from keras.layers import Dense\n",
    "from keras.layers import LSTM\n",
    "from keras.layers.embeddings import Embedding\n",
    "from keras.preprocessing import sequence\n",
    "# fix random seed for reproducibility\n",
    "np.random.seed(7)\n",
    "\n",
    "#Create the LSTM model 1.\n",
    "embedding_vector_length = 128\n",
    "model = Sequential()\n",
    "model.add(Embedding(words_vectorized.shape[1], embedding_vector_length, input_length=max_review_len)) #words_vectorized.shape[1]=71995 : Number of unique words we have in our vocabulary.\n",
    "                                                                                                      #input: words_vectorized.shape[1], output: embedding_vector_length\n",
    "model.add(LSTM(200))\n",
    "model.add(Dense(1, activation='sigmoid'))\n",
    "model.compile(loss='binary_crossentropy', optimizer='adam', metrics=['accuracy'])\n",
    "print(model.summary())\n",
    "#Refer: https://datascience.stackexchange.com/questions/10615/number-of-parameters-in-an-lstm-model"
   ]
  },
  {
   "cell_type": "code",
   "execution_count": 0,
   "metadata": {
    "colab": {
     "base_uri": "https://localhost:8080/",
     "height": 382
    },
    "colab_type": "code",
    "id": "IuReXn-TTuRt",
    "outputId": "cf05579d-f644-4d10-b229-1760dce01fbb"
   },
   "outputs": [
    {
     "name": "stdout",
     "output_type": "stream",
     "text": [
      "Train on 254919 samples, validate on 109252 samples\n",
      "Epoch 1/10\n",
      "254919/254919 [==============================] - 1027s 4ms/step - loss: 0.2482 - acc: 0.9005 - val_loss: 0.2000 - val_acc: 0.9232\n",
      "Epoch 2/10\n",
      "254919/254919 [==============================] - 987s 4ms/step - loss: 0.2137 - acc: 0.9139 - val_loss: 0.1939 - val_acc: 0.9242\n",
      "Epoch 3/10\n",
      "254919/254919 [==============================] - 981s 4ms/step - loss: 0.1980 - acc: 0.9207 - val_loss: 0.1936 - val_acc: 0.9232\n",
      "Epoch 4/10\n",
      "254919/254919 [==============================] - 982s 4ms/step - loss: 0.1847 - acc: 0.9260 - val_loss: 0.1888 - val_acc: 0.9264\n",
      "Epoch 5/10\n",
      "254919/254919 [==============================] - 981s 4ms/step - loss: 0.1724 - acc: 0.9311 - val_loss: 0.1903 - val_acc: 0.9265\n",
      "Epoch 6/10\n",
      "254919/254919 [==============================] - 970s 4ms/step - loss: 0.1600 - acc: 0.9358 - val_loss: 0.1922 - val_acc: 0.9269\n",
      "Epoch 7/10\n",
      "254919/254919 [==============================] - 971s 4ms/step - loss: 0.1459 - acc: 0.9427 - val_loss: 0.1971 - val_acc: 0.9265\n",
      "Epoch 8/10\n",
      "254919/254919 [==============================] - 972s 4ms/step - loss: 0.1309 - acc: 0.9486 - val_loss: 0.2061 - val_acc: 0.9250\n",
      "Epoch 9/10\n",
      "254919/254919 [==============================] - 976s 4ms/step - loss: 0.1146 - acc: 0.9554 - val_loss: 0.2214 - val_acc: 0.9233\n",
      "Epoch 10/10\n",
      "254919/254919 [==============================] - 968s 4ms/step - loss: 0.0970 - acc: 0.9630 - val_loss: 0.2448 - val_acc: 0.9218\n"
     ]
    }
   ],
   "source": [
    "#Train the model\n",
    "history=model.fit(X_train, y_train, epochs=10, batch_size=128, validation_data=(X_test, y_test))"
   ]
  },
  {
   "cell_type": "code",
   "execution_count": 0,
   "metadata": {
    "colab": {
     "base_uri": "https://localhost:8080/",
     "height": 314
    },
    "colab_type": "code",
    "id": "p762BXvlTuRx",
    "outputId": "a5b3a489-5a45-4aa4-d131-ee5dd1fcfcf2"
   },
   "outputs": [
    {
     "name": "stdout",
     "output_type": "stream",
     "text": [
      "Test score (Validation Loss): 0.24480932824215157\n",
      "Test accuracy (Accuracy on Unseen Data): 92.18137883059349\n"
     ]
    },
    {
     "data": {
      "image/png": "[encoded data removed]",
      "text/plain": [
       "<Figure size 432x288 with 1 Axes>"
      ]
     },
     "metadata": {
      "tags": []
     },
     "output_type": "display_data"
    }
   ],
   "source": [
    "#Final evaluation of the model\n",
    "score = model.evaluate(X_test, y_test, verbose=0)\n",
    "print('Test score (Validation Loss):', score[0]) \n",
    "print('Test accuracy (Accuracy on Unseen Data):', score[1]*100)\n",
    "\n",
    "fig,ax = plt.subplots(1,1)\n",
    "ax.set_xlabel('epoch') ; ax.set_ylabel('Binary Crossentropy Loss')\n",
    "\n",
    "#List of epoch numbers\n",
    "x = list(range(1,11))\n",
    "\n",
    "#print(history.history.keys())\n",
    "#dict_keys(['val_loss', 'val_acc', 'loss', 'acc'])\n",
    "#history = model_drop.fit(X_train, Y_train, batch_size=batch_size, epochs=nb_epoch, verbose=1, validation_data=(X_test, Y_test))\n",
    "\n",
    "#We will get val_loss and val_acc only when we pass the paramter validation_data, val_loss : validation loss, val_acc : validation accuracy\n",
    "\n",
    "#loss : training loss\n",
    "#acc : train accuracy\n",
    "#for each key in histrory.histrory we will have a list of length equal to number of epochs\n",
    "\n",
    "val_loss = history.history['val_loss'] #Validation Loss\n",
    "loss = history.history['loss'] #Training Loss\n",
    "plt_dynamic(x, val_loss, loss, ax)\n",
    "\n",
    "#Save the model.\n",
    "from keras.models import load_model\n",
    "model.save('/content/drive/My Drive/amazon/LSTM_AmazonReviews.h5') #Load using: model = load_model('LSTM_AmazonReviews.h5')\n"
   ]
  },
  {
   "cell_type": "markdown",
   "metadata": {
    "colab_type": "text",
    "id": "n_CTbc6uTuR2"
   },
   "source": [
    "### Conclusion : \n",
    "\n",
    "From the above plot, we can see that the train and test loss are nearly same at the end of 4 epochs.\n",
    "The train loss and test loss diverge away from each other when we train the model beyond 4 epochs. This means that our model\n",
    "might be overfitted. We can reduce overfitting by adding dropouts and batch normalization and see if it works.\n",
    "\n",
    "Accuracy at the end of 10 epochs = 92.18 %"
   ]
  },
  {
   "cell_type": "markdown",
   "metadata": {
    "colab_type": "text",
    "id": "tBcLvjy1e1R8"
   },
   "source": [
    "**Adding Dropout to check if it reduces overfitting + RMSProp Optimzer.**"
   ]
  },
  {
   "cell_type": "code",
   "execution_count": 0,
   "metadata": {
    "colab": {
     "base_uri": "https://localhost:8080/",
     "height": 991
    },
    "colab_type": "code",
    "id": "KxOamZbJe92i",
    "outputId": "41e8ed7b-cc25-4d20-940b-8c167b5e3155"
   },
   "outputs": [
    {
     "name": "stdout",
     "output_type": "stream",
     "text": [
      "_________________________________________________________________\n",
      "Layer (type)                 Output Shape              Param #   \n",
      "=================================================================\n",
      "embedding_1 (Embedding)      (None, 200, 64)           4607680   \n",
      "_________________________________________________________________\n",
      "dropout_1 (Dropout)          (None, 200, 64)           0         \n",
      "_________________________________________________________________\n",
      "lstm_1 (LSTM)                (None, 200)               212000    \n",
      "_________________________________________________________________\n",
      "dropout_2 (Dropout)          (None, 200)               0         \n",
      "_________________________________________________________________\n",
      "dense_1 (Dense)              (None, 1)                 201       \n",
      "=================================================================\n",
      "Total params: 4,819,881\n",
      "Trainable params: 4,819,881\n",
      "Non-trainable params: 0\n",
      "_________________________________________________________________\n",
      "None\n",
      "Train on 254919 samples, validate on 109252 samples\n",
      "Epoch 1/10\n",
      "254919/254919 [==============================] - 1864s 7ms/step - loss: 0.2737 - acc: 0.8896 - val_loss: 0.2079 - val_acc: 0.9189\n",
      "Epoch 2/10\n",
      "254919/254919 [==============================] - 1863s 7ms/step - loss: 0.2443 - acc: 0.9014 - val_loss: 0.2120 - val_acc: 0.9184\n",
      "Epoch 3/10\n",
      "254919/254919 [==============================] - 1855s 7ms/step - loss: 0.2395 - acc: 0.9042 - val_loss: 0.2109 - val_acc: 0.9215\n",
      "Epoch 4/10\n",
      "254919/254919 [==============================] - 1862s 7ms/step - loss: 0.2363 - acc: 0.9057 - val_loss: 0.2001 - val_acc: 0.9229\n",
      "Epoch 5/10\n",
      "254919/254919 [==============================] - 1860s 7ms/step - loss: 0.2348 - acc: 0.9075 - val_loss: 0.1983 - val_acc: 0.9237\n",
      "Epoch 6/10\n",
      "254919/254919 [==============================] - 1857s 7ms/step - loss: 0.2503 - acc: 0.9076 - val_loss: 0.2797 - val_acc: 0.9009\n",
      "Epoch 7/10\n",
      "254919/254919 [==============================] - 1855s 7ms/step - loss: 0.2851 - acc: 0.9059 - val_loss: 0.2202 - val_acc: 0.9231\n",
      "Epoch 8/10\n",
      "254919/254919 [==============================] - 1848s 7ms/step - loss: 0.3320 - acc: 0.9055 - val_loss: 0.2271 - val_acc: 0.9218\n",
      "Epoch 9/10\n",
      "254919/254919 [==============================] - 1878s 7ms/step - loss: 0.3992 - acc: 0.9033 - val_loss: 0.2536 - val_acc: 0.9228\n",
      "Epoch 10/10\n",
      "254919/254919 [==============================] - 1873s 7ms/step - loss: 0.4120 - acc: 0.9022 - val_loss: 0.2942 - val_acc: 0.9176\n",
      "Test score (Validation Loss): 0.2942414690911545\n",
      "Test accuracy (Accuracy on Unseen Data): 91.76399516713653\n"
     ]
    },
    {
     "data": {
      "image/png": "[encoded data removed]",
      "text/plain": [
       "<Figure size 432x288 with 1 Axes>"
      ]
     },
     "metadata": {
      "tags": []
     },
     "output_type": "display_data"
    }
   ],
   "source": [
    "import numpy as np\n",
    "import math\n",
    "from keras.datasets import imdb\n",
    "from keras.models import Sequential\n",
    "from keras.layers import Dense\n",
    "from keras.layers import LSTM\n",
    "from keras.layers.embeddings import Embedding\n",
    "from keras.preprocessing import sequence\n",
    "from keras.layers import Dropout\n",
    "# fix random seed for reproducibility\n",
    "np.random.seed(7)\n",
    "\n",
    "max_review_len = 200\n",
    "\n",
    "#Create the LSTM model 2.\n",
    "embedding_vector_length = 64\n",
    "model = Sequential()\n",
    "model.add(Embedding(words_vectorized.shape[1], embedding_vector_length, input_length=max_review_len)) \n",
    "                                                                                                      #words_vectorized.shape[1]=71995 : Number of unique words we have in our vocabulary.\n",
    "                                                                                                      #input: words_vectorized.shape[1], output: embedding_vector_length\n",
    "model.add(Dropout(0.4))\n",
    "model.add(LSTM(200))\n",
    "model.add(Dropout(0.4))\n",
    "model.add(Dense(1, activation='sigmoid'))\n",
    "model.compile(loss='binary_crossentropy', optimizer='rmsprop', metrics=['accuracy'])\n",
    "print(model.summary())\n",
    "history=model.fit(X_train, y_train, epochs=10, batch_size=64, validation_data=(X_test, y_test))\n",
    "\n",
    "#Plot train vs test loss.\n",
    "#Final evaluation of the model\n",
    "score = model.evaluate(X_test, y_test, verbose=0)\n",
    "print('Test score (Validation Loss):', score[0]) \n",
    "print('Test accuracy (Accuracy on Unseen Data):', score[1]*100)\n",
    "\n",
    "fig,ax = plt.subplots(1,1)\n",
    "ax.set_xlabel('epoch') ; ax.set_ylabel('Binary Crossentropy Loss')\n",
    "\n",
    "#List of epoch numbers\n",
    "x = list(range(1,11))\n",
    "\n",
    "val_loss = history.history['val_loss'] #Validation Loss\n",
    "loss = history.history['loss'] #Training Loss\n",
    "plt_dynamic(x, val_loss, loss, ax)\n",
    "\n",
    "#Save the model.\n",
    "from keras.models import load_model\n",
    "model.save('/content/drive/My Drive/amazon/LSTM_AmazonReviewsDropout.h5') #Load using: model = load_model('LSTM_AmazonReviewsDropout.h5')\n"
   ]
  },
  {
   "cell_type": "markdown",
   "metadata": {
    "colab_type": "text",
    "id": "3rk5K4aJ87LS"
   },
   "source": [
    "**Stacked LSTM + Dropout + RMSPROP Optimzer + Softmax**"
   ]
  },
  {
   "cell_type": "code",
   "execution_count": 0,
   "metadata": {
    "colab": {
     "base_uri": "https://localhost:8080/",
     "height": 1408
    },
    "colab_type": "code",
    "id": "IJa3OaVb81Q-",
    "outputId": "997de304-91ee-45d2-bbce-2a61d05926bd"
   },
   "outputs": [
    {
     "name": "stdout",
     "output_type": "stream",
     "text": [
      "_________________________________________________________________\n",
      "Layer (type)                 Output Shape              Param #   \n",
      "=================================================================\n",
      "embedding_1 (Embedding)      (None, 200, 128)          9215360   \n",
      "_________________________________________________________________\n",
      "dropout_1 (Dropout)          (None, 200, 128)          0         \n",
      "_________________________________________________________________\n",
      "lstm_1 (LSTM)                (None, 200, 200)          263200    \n",
      "_________________________________________________________________\n",
      "dropout_2 (Dropout)          (None, 200, 200)          0         \n",
      "_________________________________________________________________\n",
      "lstm_2 (LSTM)                (None, 200)               320800    \n",
      "_________________________________________________________________\n",
      "dropout_3 (Dropout)          (None, 200)               0         \n",
      "_________________________________________________________________\n",
      "dense_1 (Dense)              (None, 1)                 201       \n",
      "=================================================================\n",
      "Total params: 9,799,561\n",
      "Trainable params: 9,799,561\n",
      "Non-trainable params: 0\n",
      "_________________________________________________________________\n",
      "None\n",
      "Train on 254919 samples, validate on 109252 samples\n",
      "Epoch 1/20\n",
      "254919/254919 [==============================] - 1898s 7ms/step - loss: 0.2676 - acc: 0.8933 - val_loss: 0.2081 - val_acc: 0.9205\n",
      "Epoch 2/20\n",
      "254919/254919 [==============================] - 1912s 8ms/step - loss: 0.2306 - acc: 0.9079 - val_loss: 0.1952 - val_acc: 0.9246\n",
      "Epoch 3/20\n",
      "254919/254919 [==============================] - 1916s 8ms/step - loss: 0.2218 - acc: 0.9116 - val_loss: 0.1943 - val_acc: 0.9258\n",
      "Epoch 4/20\n",
      "254919/254919 [==============================] - 1891s 7ms/step - loss: 0.2120 - acc: 0.9159 - val_loss: 0.1906 - val_acc: 0.9276\n",
      "Epoch 5/20\n",
      "254919/254919 [==============================] - 1861s 7ms/step - loss: 0.2072 - acc: 0.9177 - val_loss: 0.1883 - val_acc: 0.9278\n",
      "Epoch 6/20\n",
      "254919/254919 [==============================] - 1853s 7ms/step - loss: 0.2022 - acc: 0.9202 - val_loss: 0.1842 - val_acc: 0.9288\n",
      "Epoch 7/20\n",
      "254919/254919 [==============================] - 1855s 7ms/step - loss: 0.1979 - acc: 0.9221 - val_loss: 0.1812 - val_acc: 0.9307\n",
      "Epoch 8/20\n",
      "254919/254919 [==============================] - 1865s 7ms/step - loss: 0.1942 - acc: 0.9234 - val_loss: 0.1946 - val_acc: 0.9266\n",
      "Epoch 9/20\n",
      "254919/254919 [==============================] - 1901s 7ms/step - loss: 0.1918 - acc: 0.9246 - val_loss: 0.1904 - val_acc: 0.9286\n",
      "Epoch 10/20\n",
      "254919/254919 [==============================] - 1857s 7ms/step - loss: 0.1881 - acc: 0.9262 - val_loss: 0.1836 - val_acc: 0.9299\n",
      "Epoch 11/20\n",
      "254919/254919 [==============================] - 1859s 7ms/step - loss: 0.1856 - acc: 0.9271 - val_loss: 0.1920 - val_acc: 0.9291\n",
      "Epoch 12/20\n",
      "254919/254919 [==============================] - 1859s 7ms/step - loss: 0.1821 - acc: 0.9293 - val_loss: 0.1967 - val_acc: 0.9300\n",
      "Epoch 13/20\n",
      "254919/254919 [==============================] - 1853s 7ms/step - loss: 0.1800 - acc: 0.9303 - val_loss: 0.1845 - val_acc: 0.9314\n",
      "Epoch 14/20\n",
      "254919/254919 [==============================] - 1848s 7ms/step - loss: 0.1778 - acc: 0.9310 - val_loss: 0.1837 - val_acc: 0.9320\n",
      "Epoch 15/20\n",
      "254919/254919 [==============================] - 1843s 7ms/step - loss: 0.1759 - acc: 0.9319 - val_loss: 0.1791 - val_acc: 0.9306\n",
      "Epoch 16/20\n",
      "254919/254919 [==============================] - 1844s 7ms/step - loss: 0.1747 - acc: 0.9327 - val_loss: 0.2131 - val_acc: 0.9297\n",
      "Epoch 17/20\n",
      "254919/254919 [==============================] - 1846s 7ms/step - loss: 0.1720 - acc: 0.9335 - val_loss: 0.1891 - val_acc: 0.9320\n",
      "Epoch 18/20\n",
      "254919/254919 [==============================] - 1843s 7ms/step - loss: 0.1709 - acc: 0.9343 - val_loss: 0.1850 - val_acc: 0.9325\n",
      "Epoch 19/20\n",
      "254919/254919 [==============================] - 1853s 7ms/step - loss: 0.1693 - acc: 0.9354 - val_loss: 0.1932 - val_acc: 0.9315\n",
      "Epoch 20/20\n",
      "254919/254919 [==============================] - 1882s 7ms/step - loss: 0.1682 - acc: 0.9352 - val_loss: 0.1832 - val_acc: 0.9323\n",
      "Test score (Validation Loss): 0.18322901718916682\n",
      "Test accuracy (Accuracy on Unseen Data): 93.22575330428734\n"
     ]
    },
    {
     "data": {
      "image/png": "[encoded data removed]",
      "text/plain": [
       "<Figure size 432x288 with 1 Axes>"
      ]
     },
     "metadata": {
      "tags": []
     },
     "output_type": "display_data"
    }
   ],
   "source": [
    "import numpy as np\n",
    "import math\n",
    "from keras.datasets import imdb\n",
    "from keras.models import Sequential\n",
    "from keras.layers import Dense\n",
    "from keras.layers import LSTM\n",
    "from keras.layers.embeddings import Embedding\n",
    "from keras.preprocessing import sequence\n",
    "from keras.layers import Dropout\n",
    "# fix random seed for reproducibility\n",
    "np.random.seed(7)\n",
    "\n",
    "max_review_len = 200\n",
    "\n",
    "#Create the LSTM model 2.\n",
    "embedding_vector_length = 128\n",
    "model = Sequential()\n",
    "model.add(Embedding(71995, embedding_vector_length, input_length=max_review_len)) \n",
    "                                                                                                      #words_vectorized.shape[1]=71995 : Number of unique words we have in our vocabulary.\n",
    "                                                                                                      #input: words_vectorized.shape[1], output: embedding_vector_length\n",
    "model.add(Dropout(0.4))\n",
    "model.add(LSTM(200, return_sequences=True))\n",
    "model.add(Dropout(0.4))\n",
    "model.add(LSTM(200))\n",
    "model.add(Dropout(0.4))\n",
    "model.add(Dense(1, activation='sigmoid'))\n",
    "model.compile(loss='binary_crossentropy', optimizer='rmsprop', metrics=['accuracy'])\n",
    "print(model.summary())\n",
    "history=model.fit(X_train, y_train, epochs=20, batch_size=128, validation_data=(X_test, y_test))  #Training this model for 20 epochs. \n",
    "\n",
    "#Plot train vs test loss.\n",
    "#Final evaluation of the model\n",
    "score = model.evaluate(X_test, y_test, verbose=0)\n",
    "print('Test score (Validation Loss):', score[0]) \n",
    "print('Test accuracy (Accuracy on Unseen Data):', score[1]*100)\n",
    "\n",
    "fig,ax = plt.subplots(1,1)\n",
    "ax.set_xlabel('epoch') ; ax.set_ylabel('Binary Crossentropy Loss')\n",
    "\n",
    "#List of epoch numbers\n",
    "x = list(range(1,21))\n",
    "\n",
    "val_loss = history.history['val_loss'] #Validation Loss\n",
    "loss = history.history['loss'] #Training Loss\n",
    "plt_dynamic(x, val_loss, loss, ax)\n",
    "\n",
    "#Save the model.\n",
    "from keras.models import load_model\n",
    "model.save('/content/drive/My Drive/amazon/LSTM_AmazonReviewsDropoutEpoch20.h5') #Load using: model = load_model('LSTM_AmazonReviewsDropoutEpoch20.h5')\n"
   ]
  }
 ],
 "metadata": {
  "accelerator": "GPU",
  "colab": {
   "collapsed_sections": [],
   "name": "RNN Amazon Food Reviews.ipynb",
   "provenance": [],
   "version": "0.3.2"
  },
  "kernelspec": {
   "display_name": "Python 3",
   "language": "python",
   "name": "python3"
  },
  "language_info": {
   "codemirror_mode": {
    "name": "ipython",
    "version": 3
   },
   "file_extension": ".py",
   "mimetype": "text/x-python",
   "name": "python",
   "nbconvert_exporter": "python",
   "pygments_lexer": "ipython3",
   "version": "3.6.5"
  }
 },
 "nbformat": 4,
 "nbformat_minor": 1
}
